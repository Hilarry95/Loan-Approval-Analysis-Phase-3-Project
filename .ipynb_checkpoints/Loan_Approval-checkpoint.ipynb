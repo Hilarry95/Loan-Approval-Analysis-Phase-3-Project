{
 "cells": [
  {
   "cell_type": "markdown",
   "metadata": {},
   "source": [
    "## Final Project Submission\n",
    "\n",
    "Please fill out:\n",
    "* Student name: Hilary Simiyu\n",
    "* Student pace: full time\n",
    "* Scheduled project review date/time: \n",
    "* Instructor name: Nikita Njoroge\n",
    "* Blog post URL:\n"
   ]
  },
  {
   "cell_type": "markdown",
   "metadata": {},
   "source": [
    "# LOAN APPROVAL ANALYSIS FOR THE BANK OF INDIA"
   ]
  },
  {
   "cell_type": "markdown",
   "metadata": {},
   "source": [
    "## Business Understanding"
   ]
  },
  {
   "cell_type": "markdown",
   "metadata": {},
   "source": [
    "### Overview\n",
    "The loan approval project aims to develop a predictive model that can reliably assess an applicant's chances of getting a loan based on their financial and personal characteristics. This approach uses machine learning algorithms and historical data to improve and automate decision-making. By analyzing patterns and trends within the data, the model can provide reliable recommendations, thus aiding the Bank of India, the stakeholder of this project, in reducing the time and resources spent on manual evaluations and improving the consistency of loan approval decisions."
   ]
  },
  {
   "attachments": {
    "images.jpg": {
     "image/jpeg": "[encoded data removed]"
    }
   },
   "cell_type": "markdown",
   "metadata": {},
   "source": [
    "![images.jpg](attachment:images.jpg)"
   ]
  },
  {
   "cell_type": "markdown",
   "metadata": {},
   "source": [
    "#### Challenges\n",
    "The major challenge in developing a loan approval model is the high reliance on high quality data whereby incomplete and inaccuarate data can lead to unrealiable predictions.Additionally, ensuring the model complies with regulatory requirements and ethical considerations, such as preventing discriminatory biases, presents a significant challenge. Also ensuring a balance between the model's complexity and interpretability ia a challange as we have to ensure the stakeholders are able to understand the model but also maintain a bit of complexity for better results."
   ]
  },
  {
   "cell_type": "markdown",
   "metadata": {},
   "source": [
    "#### Proposed Solution\n",
    "The proposed Solution is to create a model with a target accuaracy score of 80% by training it on comprehensive data based on previous applicants such as the employment status and income level.To address the data isues , extensive data preprocessing will be employed with regular bias detection along the way to ensure the model remains fair.The model will be tailored to meet specific business needs and regulatory frameworks for the Bank of India as the key stakeholder"
   ]
  },
  {
   "cell_type": "markdown",
   "metadata": {},
   "source": [
    "In conclusion, the loan approval project aims to significantly enhance the efficiency and accuracy of the loan approval process through advanced machine learning techniques. Faced with challenges such as data quality, the proposed solution focuses on achieving a balance between performance and interpretability. With an accuracy target of 80%, the model is expected to provide reliable predictions that can streamline bank operations, reduce approval times, and maintain fair lending practices. By addressing these challenges and implementing a robust evaluation framework, the project aspires to deliver a valuable tool for banks, including the Bank of India, ensuring its alignment with their operational goals and regulatory requirements."
   ]
  },
  {
   "cell_type": "markdown",
   "metadata": {},
   "source": [
    "### Problem Statement\n",
    "With adavancement in technology and increased competition, The Bank of India wishes to  enhance its loan approval process by developing a predictive model that accurately determines the likelihood of loan approval for applicants.By moving away from manual evaluations to more data-driven solutions to enure faster and reliable decisions.This model will rely on previous customers data and identify patterns from there and predict approval outcomes.The key challenge is to develop a model that not only achieves high accuracy but also adheres to regulatory standards and maintains ethical lending practices.\n"
   ]
  },
  {
   "cell_type": "markdown",
   "metadata": {},
   "source": [
    "### Objectives\n",
    " * To\n",
    " * To\n",
    " * To"
   ]
  },
  {
   "cell_type": "markdown",
   "metadata": {},
   "source": [
    "## Data Understanding"
   ]
  },
  {
   "cell_type": "markdown",
   "metadata": {},
   "source": [
    "For this project, we will make use of the Loan Approval Dataset sourced from Kaggle.The dataset has comprehensive information regarding a loan applicant's financial status, personal attributes such as age and marital status.The dataset has a blend of both numerical and categorical features making it suitable for machine learning models and produce good models that can be adopted into use later on.\n"
   ]
  },
  {
   "cell_type": "markdown",
   "metadata": {},
   "source": [
    "The rows represent a loan applicant in India and the columns in the dataset are:\n",
    " * Id: Unique identifier for each loan applicant.\n",
    " * Income: The income level of the applicant.\n",
    " * Age: Age of the applicant.\n",
    " * Experience: Years of professional experience.\n",
    " * Married/Single: Marital status of the applicant.\n",
    " * House_Ownership: Indicates whether the applicant owns or rents a house.\n",
    " * Car_Ownership: Indicates whether the applicant owns a car.\n",
    " * Profession: Occupation or profession of the applicant.\n",
    " * CITY: City of residence of the applicant.\n",
    " * STATE: State of residence of the applicant.\n",
    " * CURRENT_JOB_YRS: Duration of employment in the current job.\n",
    " * CURRENT_HOUSE_YRS: Duration of residence in the current house.\n",
    " * Risk_Flag: Binary indicator of loan risk, where 1 represents a flagged risky applicant and 0 represents a non-risky applicant."
   ]
  },
  {
   "cell_type": "markdown",
   "metadata": {},
   "source": [
    "####  Import the Necessary Libraries and Dependancies"
   ]
  },
  {
   "cell_type": "code",
   "execution_count": 1,
   "metadata": {},
   "outputs": [],
   "source": [
    "import pandas as pd\n",
    "import numpy as np\n",
    "\n",
    "from sklearn.model_selection import  GridSearchCV\n",
    "from sklearn.linear_model import LogisticRegression\n",
    "from sklearn.tree import DecisionTreeClassifier\n",
    "from sklearn.ensemble import RandomForestClassifier\n",
    "from sklearn.model_selection import train_test_split\n",
    "\n",
    "from xgboost import XGBClassifier\n",
    "from sklearn.preprocessing import StandardScaler\n",
    "\n",
    "from sklearn.metrics import accuracy_score, confusion_matrix, precision_score, recall_score, f1_score, roc_auc_score\n",
    "\n",
    "import matplotlib.pyplot as plt\n",
    "import seaborn as sns\n",
    "%matplotlib inline\n",
    "\n",
    "#Import the classes from the functions module\n",
    "from functions import Loading, Cleaning, Preprocessing, Analysis, Modeling, Evaluation"
   ]
  },
  {
   "cell_type": "markdown",
   "metadata": {},
   "source": [
    "Creating an instance of the classes to be used"
   ]
  },
  {
   "cell_type": "code",
   "execution_count": 2,
   "metadata": {},
   "outputs": [],
   "source": [
    "loader = Loading()\n",
    "\n",
    "cleaner = Cleaning()\n",
    "\n",
    "preprocessor = Preprocessing()\n",
    "\n",
    "analyser = Analysis()\n",
    "\n",
    "modeler = Modeling()\n",
    "\n",
    "evaluator = Evaluation()\n"
   ]
  },
  {
   "cell_type": "code",
   "execution_count": 3,
   "metadata": {},
   "outputs": [
    {
     "name": "stdout",
     "output_type": "stream",
     "text": [
      "The dataset contains 252000 loan applicants with 13 attributes\n",
      "<class 'pandas.core.frame.DataFrame'>\n",
      "Int64Index: 252000 entries, 0 to 251999\n",
      "Data columns (total 13 columns):\n",
      " #   Column             Non-Null Count   Dtype \n",
      "---  ------             --------------   ----- \n",
      " 0   Id                 252000 non-null  int64 \n",
      " 1   Income             252000 non-null  int64 \n",
      " 2   Age                252000 non-null  int64 \n",
      " 3   Experience         252000 non-null  int64 \n",
      " 4   Married/Single     252000 non-null  object\n",
      " 5   House_Ownership    252000 non-null  object\n",
      " 6   Car_Ownership      252000 non-null  object\n",
      " 7   Profession         252000 non-null  object\n",
      " 8   CITY               252000 non-null  object\n",
      " 9   STATE              252000 non-null  object\n",
      " 10  CURRENT_JOB_YRS    252000 non-null  int64 \n",
      " 11  CURRENT_HOUSE_YRS  252000 non-null  int64 \n",
      " 12  Risk_Flag          252000 non-null  int64 \n",
      "dtypes: int64(7), object(6)\n",
      "memory usage: 26.9+ MB\n",
      "None\n",
      "                  Id        Income            Age     Experience  \\\n",
      "count  252000.000000  2.520000e+05  252000.000000  252000.000000   \n",
      "mean   126000.500000  4.997117e+06      49.954071      10.084437   \n",
      "std     72746.278255  2.878311e+06      17.063855       6.002590   \n",
      "min         1.000000  1.031000e+04      21.000000       0.000000   \n",
      "25%     63000.750000  2.503015e+06      35.000000       5.000000   \n",
      "50%    126000.500000  5.000694e+06      50.000000      10.000000   \n",
      "75%    189000.250000  7.477502e+06      65.000000      15.000000   \n",
      "max    252000.000000  9.999938e+06      79.000000      20.000000   \n",
      "\n",
      "       CURRENT_JOB_YRS  CURRENT_HOUSE_YRS      Risk_Flag  \n",
      "count    252000.000000      252000.000000  252000.000000  \n",
      "mean          6.333877          11.997794       0.123000  \n",
      "std           3.647053           1.399037       0.328438  \n",
      "min           0.000000          10.000000       0.000000  \n",
      "25%           3.000000          11.000000       0.000000  \n",
      "50%           6.000000          12.000000       0.000000  \n",
      "75%           9.000000          13.000000       0.000000  \n",
      "max          14.000000          14.000000       1.000000  \n",
      "\n",
      "Risk_Flag value counts:\n",
      "0 (No Risk):  221004\n",
      "1 (Risk):  30996\n"
     ]
    },
    {
     "data": {
      "text/html": [
       "<div>\n",
       "<style scoped>\n",
       "    .dataframe tbody tr th:only-of-type {\n",
       "        vertical-align: middle;\n",
       "    }\n",
       "\n",
       "    .dataframe tbody tr th {\n",
       "        vertical-align: top;\n",
       "    }\n",
       "\n",
       "    .dataframe thead th {\n",
       "        text-align: right;\n",
       "    }\n",
       "</style>\n",
       "<table border=\"1\" class=\"dataframe\">\n",
       "  <thead>\n",
       "    <tr style=\"text-align: right;\">\n",
       "      <th></th>\n",
       "      <th>Id</th>\n",
       "      <th>Income</th>\n",
       "      <th>Age</th>\n",
       "      <th>Experience</th>\n",
       "      <th>Married/Single</th>\n",
       "      <th>House_Ownership</th>\n",
       "      <th>Car_Ownership</th>\n",
       "      <th>Profession</th>\n",
       "      <th>CITY</th>\n",
       "      <th>STATE</th>\n",
       "      <th>CURRENT_JOB_YRS</th>\n",
       "      <th>CURRENT_HOUSE_YRS</th>\n",
       "      <th>Risk_Flag</th>\n",
       "    </tr>\n",
       "  </thead>\n",
       "  <tbody>\n",
       "    <tr>\n",
       "      <th>0</th>\n",
       "      <td>1</td>\n",
       "      <td>1303834</td>\n",
       "      <td>23</td>\n",
       "      <td>3</td>\n",
       "      <td>single</td>\n",
       "      <td>rented</td>\n",
       "      <td>no</td>\n",
       "      <td>Mechanical_engineer</td>\n",
       "      <td>Rewa</td>\n",
       "      <td>Madhya_Pradesh</td>\n",
       "      <td>3</td>\n",
       "      <td>13</td>\n",
       "      <td>0</td>\n",
       "    </tr>\n",
       "    <tr>\n",
       "      <th>1</th>\n",
       "      <td>2</td>\n",
       "      <td>7574516</td>\n",
       "      <td>40</td>\n",
       "      <td>10</td>\n",
       "      <td>single</td>\n",
       "      <td>rented</td>\n",
       "      <td>no</td>\n",
       "      <td>Software_Developer</td>\n",
       "      <td>Parbhani</td>\n",
       "      <td>Maharashtra</td>\n",
       "      <td>9</td>\n",
       "      <td>13</td>\n",
       "      <td>0</td>\n",
       "    </tr>\n",
       "    <tr>\n",
       "      <th>2</th>\n",
       "      <td>3</td>\n",
       "      <td>3991815</td>\n",
       "      <td>66</td>\n",
       "      <td>4</td>\n",
       "      <td>married</td>\n",
       "      <td>rented</td>\n",
       "      <td>no</td>\n",
       "      <td>Technical_writer</td>\n",
       "      <td>Alappuzha</td>\n",
       "      <td>Kerala</td>\n",
       "      <td>4</td>\n",
       "      <td>10</td>\n",
       "      <td>0</td>\n",
       "    </tr>\n",
       "    <tr>\n",
       "      <th>3</th>\n",
       "      <td>4</td>\n",
       "      <td>6256451</td>\n",
       "      <td>41</td>\n",
       "      <td>2</td>\n",
       "      <td>single</td>\n",
       "      <td>rented</td>\n",
       "      <td>yes</td>\n",
       "      <td>Software_Developer</td>\n",
       "      <td>Bhubaneswar</td>\n",
       "      <td>Odisha</td>\n",
       "      <td>2</td>\n",
       "      <td>12</td>\n",
       "      <td>1</td>\n",
       "    </tr>\n",
       "    <tr>\n",
       "      <th>4</th>\n",
       "      <td>5</td>\n",
       "      <td>5768871</td>\n",
       "      <td>47</td>\n",
       "      <td>11</td>\n",
       "      <td>single</td>\n",
       "      <td>rented</td>\n",
       "      <td>no</td>\n",
       "      <td>Civil_servant</td>\n",
       "      <td>Tiruchirappalli[10]</td>\n",
       "      <td>Tamil_Nadu</td>\n",
       "      <td>3</td>\n",
       "      <td>14</td>\n",
       "      <td>1</td>\n",
       "    </tr>\n",
       "  </tbody>\n",
       "</table>\n",
       "</div>"
      ],
      "text/plain": [
       "   Id   Income  Age  Experience Married/Single House_Ownership Car_Ownership  \\\n",
       "0   1  1303834   23           3         single          rented            no   \n",
       "1   2  7574516   40          10         single          rented            no   \n",
       "2   3  3991815   66           4        married          rented            no   \n",
       "3   4  6256451   41           2         single          rented           yes   \n",
       "4   5  5768871   47          11         single          rented            no   \n",
       "\n",
       "            Profession                 CITY           STATE  CURRENT_JOB_YRS  \\\n",
       "0  Mechanical_engineer                 Rewa  Madhya_Pradesh                3   \n",
       "1   Software_Developer             Parbhani     Maharashtra                9   \n",
       "2     Technical_writer            Alappuzha          Kerala                4   \n",
       "3   Software_Developer          Bhubaneswar          Odisha                2   \n",
       "4        Civil_servant  Tiruchirappalli[10]      Tamil_Nadu                3   \n",
       "\n",
       "   CURRENT_HOUSE_YRS  Risk_Flag  \n",
       "0                 13          0  \n",
       "1                 13          0  \n",
       "2                 10          0  \n",
       "3                 12          1  \n",
       "4                 14          1  "
      ]
     },
     "execution_count": 3,
     "metadata": {},
     "output_type": "execute_result"
    }
   ],
   "source": [
    "#Using the load_data attribute\n",
    "loan_data = loader.load_data('Data\\loan_approval_dataset.json')\n",
    "\n",
    "#display first 5 rows\n",
    "loan_data.head()"
   ]
  },
  {
   "cell_type": "markdown",
   "metadata": {},
   "source": [
    "The dataset contains 13 columns, each representing a distinct personal attribute, and 252,000 rows, with each row corresponding to a loan application.\n",
    "This dataset has a mix of various datatypes: Id, Income, Age, Experience, Current job years, Current House years and Risk Flag as integers(int64)to facilitate mathematical computations and the rest as objects to accommodate text-based categories.\n",
    "\n",
    "* One thing to note is that the Risk flag class has imbalanced weights, for better results we'll have to pass a class_weight parameter when modeling\n"
   ]
  },
  {
   "cell_type": "markdown",
   "metadata": {},
   "source": [
    "## Data Cleaning And Analysis"
   ]
  },
  {
   "cell_type": "markdown",
   "metadata": {},
   "source": [
    "After getting an overview of what the dataset contains let's move on to clean it but first identify the issues with it"
   ]
  },
  {
   "cell_type": "code",
   "execution_count": 4,
   "metadata": {},
   "outputs": [
    {
     "data": {
      "text/plain": [
       "{'missing_values': Id                   0\n",
       " Income               0\n",
       " Age                  0\n",
       " Experience           0\n",
       " Married/Single       0\n",
       " House_Ownership      0\n",
       " Car_Ownership        0\n",
       " Profession           0\n",
       " CITY                 0\n",
       " STATE                0\n",
       " CURRENT_JOB_YRS      0\n",
       " CURRENT_HOUSE_YRS    0\n",
       " Risk_Flag            0\n",
       " dtype: int64,\n",
       " 'duplicate_rows': 0,\n",
       " 'null_values': Id                   0\n",
       " Income               0\n",
       " Age                  0\n",
       " Experience           0\n",
       " Married/Single       0\n",
       " House_Ownership      0\n",
       " Car_Ownership        0\n",
       " Profession           0\n",
       " CITY                 0\n",
       " STATE                0\n",
       " CURRENT_JOB_YRS      0\n",
       " CURRENT_HOUSE_YRS    0\n",
       " Risk_Flag            0\n",
       " dtype: int64}"
      ]
     },
     "execution_count": 4,
     "metadata": {},
     "output_type": "execute_result"
    }
   ],
   "source": [
    "cleaner.identify_issues(loan_data)"
   ]
  },
  {
   "cell_type": "markdown",
   "metadata": {},
   "source": [
    "The dataset doesn't have any missing, null or duplicate values. W\n",
    "\n",
    "We'll retain the outliers since they may just be loan applicants with higher income or older age and to avoid discrimination or biasness we will include them in this analysis.They also reflect the real world situation and also just retaining more data will be condusive for such a smaller dataset\n",
    "\n",
    "Moving to the analysis"
   ]
  },
  {
   "cell_type": "code",
   "execution_count": 5,
   "metadata": {},
   "outputs": [
    {
     "data": {
      "image/png": "[encoded data removed]",
      "text/plain": [
       "<Figure size 432x288 with 1 Axes>"
      ]
     },
     "metadata": {
      "needs_background": "light"
     },
     "output_type": "display_data"
    }
   ],
   "source": [
    "analyser.target_analysis(loan_data)"
   ]
  },
  {
   "cell_type": "markdown",
   "metadata": {},
   "source": [
    "From the count display above of the Risk Flag column we can deduce that most of the applicants are flagged as non risky"
   ]
  },
  {
   "cell_type": "markdown",
   "metadata": {},
   "source": [
    "#### a) Univariate Analysis\n",
    "\n",
    "The categorical columns suitable for analysis are the *Married/single*, *House_ownership* and *Car_ownership* columns"
   ]
  },
  {
   "cell_type": "code",
   "execution_count": 6,
   "metadata": {},
   "outputs": [
    {
     "data": {
      "text/plain": [
       "<bound method Analysis.categorical_analysis of <functions.Analysis object at 0x000001D34E884730>>"
      ]
     },
     "execution_count": 6,
     "metadata": {},
     "output_type": "execute_result"
    }
   ],
   "source": [
    "#create a column list of the above columns\n",
    "cat_columns = ['Married/Single', 'House_Ownership', 'Car_Ownership']\n",
    "\n",
    "analyser.categorical_analysis(cat_columns, loan_data)"
   ]
  },
  {
   "cell_type": "markdown",
   "metadata": {},
   "source": []
  },
  {
   "cell_type": "code",
   "execution_count": null,
   "metadata": {},
   "outputs": [],
   "source": [
    "analyser.category_by_target(cat_columns, loan_data)"
   ]
  },
  {
   "cell_type": "markdown",
   "metadata": {},
   "source": []
  },
  {
   "cell_type": "code",
   "execution_count": null,
   "metadata": {},
   "outputs": [],
   "source": [
    "analyser.correlation_map(loan_data)"
   ]
  },
  {
   "cell_type": "code",
   "execution_count": null,
   "metadata": {},
   "outputs": [],
   "source": []
  },
  {
   "cell_type": "markdown",
   "metadata": {},
   "source": [
    "## Modeling"
   ]
  },
  {
   "cell_type": "markdown",
   "metadata": {},
   "source": [
    "Six models were created for this project. The LogisticRegression was used as baseline. We designed DecisionTreeClassifier, RandomForestClassifier, and XGBoost models, with iterations on the parameters for the DecisionTree."
   ]
  },
  {
   "cell_type": "code",
   "execution_count": 5,
   "metadata": {},
   "outputs": [],
   "source": [
    "# Split the data into features (X) and target variable (y)\n",
    "X = loan_data.drop(columns=[\"Risk_Flag\"])\n",
    "y = loan_data[\"Risk_Flag\"]"
   ]
  },
  {
   "cell_type": "markdown",
   "metadata": {},
   "source": [
    "### a) Logistic Regression\n",
    "\n"
   ]
  },
  {
   "cell_type": "markdown",
   "metadata": {},
   "source": [
    "To avoid data leakage we'll split the dataset into train and test and perform some preprocessing on it"
   ]
  },
  {
   "cell_type": "markdown",
   "metadata": {},
   "source": [
    "The baseline model is a simple Logistic Regression which we will use to also iterate through some test sizes to find the best testsize for splitting our data"
   ]
  },
  {
   "cell_type": "code",
   "execution_count": null,
   "metadata": {},
   "outputs": [],
   "source": [
    "logreg = LogisticRegression(fit_intercept=False, C=1e12, solver='liblinear', random_state=42)\n",
    "\n",
    "best_test_size = 0\n",
    "best_accuracy = 0\n",
    "\n",
    "for size in [0.2, 0.25, 0.3, 0.4]:\n",
    "    X_train, X_test, y_train, y_test = preprocessor.prep(X, y, size)\n",
    "    test_accuracy = modeler.models(logreg, X_train, y_train, X_test, y_test)\n",
    "    \n",
    "    if test_accuracy > best_accuracy:\n",
    "        best_accuracy = test_accuracy\n",
    "        best_test_size = size\n",
    "\n",
    "print(f\"Best test size: {best_test_size} with accuracy: {best_accuracy*100:.2f}%\")"
   ]
  },
  {
   "cell_type": "markdown",
   "metadata": {},
   "source": [
    "The best test size is 30% for the remaining models we will use this.\n",
    "\n",
    "The second Iteration of the Logistic Regression will have a penalty included and also balance the weights of the class"
   ]
  },
  {
   "cell_type": "code",
   "execution_count": null,
   "metadata": {},
   "outputs": [],
   "source": [
    "#Using a testsize of 30% for the remaining models\n",
    "X_train, X_test, y_train, y_test = preprocessor.prep(X, y, 0.3)"
   ]
  },
  {
   "cell_type": "code",
   "execution_count": null,
   "metadata": {},
   "outputs": [],
   "source": [
    "logreg2 = LogisticRegression(class_weight='balanced',\n",
    "                            penalty='l2',\n",
    "                            fit_intercept=False,\n",
    "                            C=1e12, solver='liblinear'\n",
    "                            )"
   ]
  },
  {
   "cell_type": "code",
   "execution_count": null,
   "metadata": {},
   "outputs": [
    {
     "name": "stdout",
     "output_type": "stream",
     "text": [
      "\n",
      "The model has an accuracy of 52.03% on the test test\n",
      "The Model has an accuracy of 52.23% on the train test\n"
     ]
    },
    {
     "data": {
      "text/plain": [
       "0.5202645502645503"
      ]
     },
     "execution_count": 9,
     "metadata": {},
     "output_type": "execute_result"
    }
   ],
   "source": [
    "modeler.models(logreg2, X_train, y_train, X_test, y_test)    "
   ]
  },
  {
   "cell_type": "markdown",
   "metadata": {},
   "source": [
    "### b) Decision Trees"
   ]
  },
  {
   "cell_type": "markdown",
   "metadata": {},
   "source": [
    "The second model will be a Desision Tree Classifier"
   ]
  },
  {
   "cell_type": "code",
   "execution_count": null,
   "metadata": {},
   "outputs": [],
   "source": [
    "clf = DecisionTreeClassifier()"
   ]
  },
  {
   "cell_type": "code",
   "execution_count": null,
   "metadata": {
    "scrolled": true
   },
   "outputs": [
    {
     "name": "stdout",
     "output_type": "stream",
     "text": [
      "\n",
      "The model has an accuracy of 87.14% on the test test\n",
      "The Model has an accuracy of 100.00% on the train test\n"
     ]
    },
    {
     "data": {
      "text/plain": [
       "0.8713624338624338"
      ]
     },
     "execution_count": 11,
     "metadata": {},
     "output_type": "execute_result"
    }
   ],
   "source": [
    "modeler.models(clf, X_train, y_train, X_test, y_test) "
   ]
  },
  {
   "cell_type": "markdown",
   "metadata": {},
   "source": [
    "* Compared to the LogisticRegression the model is performing much better with an improved accuracy score\n",
    "* However the model is overfitting to the train data, because of the large difference between the train and test score\n",
    "\n",
    "The second iteration will aplly hyperparameter optimization to try increase the accuracy"
   ]
  },
  {
   "cell_type": "code",
   "execution_count": null,
   "metadata": {},
   "outputs": [],
   "source": [
    "#Second Iteration of Decision Tree\n",
    "Clf2 = DecisionTreeClassifier(criterion='entropy',\n",
    "                              class_weight='balanced',\n",
    "                              max_depth = 4,\n",
    "                              min_samples_split=5,\n",
    "                              min_samples_leaf=3\n",
    "                              )"
   ]
  },
  {
   "cell_type": "code",
   "execution_count": null,
   "metadata": {},
   "outputs": [
    {
     "name": "stdout",
     "output_type": "stream",
     "text": [
      "\n",
      "The model has an accuracy of 54.07% on the test test\n",
      "The Model has an accuracy of 54.16% on the train test\n"
     ]
    },
    {
     "data": {
      "text/plain": [
       "0.5406746031746031"
      ]
     },
     "execution_count": 13,
     "metadata": {},
     "output_type": "execute_result"
    }
   ],
   "source": [
    "modeler.models(Clf2, X_train, y_train, X_test, y_test) "
   ]
  },
  {
   "cell_type": "markdown",
   "metadata": {},
   "source": [
    "### c) Random Forest\n",
    "\n",
    "The next model will be a random forest which is an essemble of Decision Trees"
   ]
  },
  {
   "cell_type": "code",
   "execution_count": null,
   "metadata": {},
   "outputs": [],
   "source": [
    "forest = RandomForestClassifier(n_estimators=100 ,\n",
    "                                max_depth = 5,\n",
    "                                class_weight='balanced_subsample'\n",
    "                                )"
   ]
  },
  {
   "cell_type": "code",
   "execution_count": null,
   "metadata": {},
   "outputs": [
    {
     "name": "stdout",
     "output_type": "stream",
     "text": [
      "\n",
      "The model has an accuracy of 67.40% on the test test\n",
      "The Model has an accuracy of 67.70% on the train test\n"
     ]
    },
    {
     "data": {
      "text/plain": [
       "0.6739814814814815"
      ]
     },
     "execution_count": 15,
     "metadata": {},
     "output_type": "execute_result"
    }
   ],
   "source": [
    "modeler.models(forest, X_train, y_train, X_test, y_test) "
   ]
  },
  {
   "cell_type": "markdown",
   "metadata": {},
   "source": [
    "### d) XGBoost\n",
    "\n",
    "Implementing gradient descent algorithm"
   ]
  },
  {
   "cell_type": "code",
   "execution_count": null,
   "metadata": {},
   "outputs": [],
   "source": [
    "Xg = XGBClassifier()"
   ]
  },
  {
   "cell_type": "code",
   "execution_count": null,
   "metadata": {},
   "outputs": [
    {
     "name": "stdout",
     "output_type": "stream",
     "text": [
      "\n",
      "The model has an accuracy of 89.35% on the test test\n",
      "The Model has an accuracy of 89.73% on the train test\n"
     ]
    },
    {
     "data": {
      "text/plain": [
       "0.8934656084656085"
      ]
     },
     "execution_count": 17,
     "metadata": {},
     "output_type": "execute_result"
    }
   ],
   "source": [
    "modeler.models(Xg, X_train, y_train, X_test, y_test) "
   ]
  },
  {
   "cell_type": "markdown",
   "metadata": {},
   "source": [
    "## Evaluation"
   ]
  },
  {
   "cell_type": "markdown",
   "metadata": {},
   "source": [
    "We'll evaluate the models by checking their metrics and also plotting a confusion matrix of the same"
   ]
  },
  {
   "cell_type": "code",
   "execution_count": null,
   "metadata": {},
   "outputs": [
    {
     "data": {
      "image/png": "[encoded data removed]",
      "text/plain": [
       "<Figure size 576x432 with 1 Axes>"
      ]
     },
     "metadata": {
      "needs_background": "light"
     },
     "output_type": "display_data"
    },
    {
     "data": {
      "text/plain": [
       "{'Precision': 0.16512571412800486,\n",
       " 'Recall': 0.6453457016503074,\n",
       " 'F1-score': 0.2629658931082982,\n",
       " 'ROC-AUC': 0.6350329807162958}"
      ]
     },
     "execution_count": 18,
     "metadata": {},
     "output_type": "execute_result"
    }
   ],
   "source": [
    "#First LogisticRegression Model\n",
    "evaluator.Evaluate(logreg, X_test, y_test)"
   ]
  },
  {
   "cell_type": "markdown",
   "metadata": {},
   "source": [
    "\n",
    " * Precision of 0.165 indicates that for all the instances the model predicted positive only 16.5% were actually positive\n",
    " * Recall of 0.645 indicates that the model detected 64.5% of all the positive instances\n",
    " * A low F1 score of 0.263 indicates that the model did not perform well\n",
    " * Since the ROC_AUC score is closer to above 0.5 it performed moderately\n"
   ]
  },
  {
   "cell_type": "code",
   "execution_count": null,
   "metadata": {},
   "outputs": [
    {
     "data": {
      "image/png": "[encoded data removed]",
      "text/plain": [
       "<Figure size 576x432 with 1 Axes>"
      ]
     },
     "metadata": {
      "needs_background": "light"
     },
     "output_type": "display_data"
    },
    {
     "data": {
      "text/plain": [
       "{'Precision': 0.16212360141172938,\n",
       " 'Recall': 0.6986301369863014,\n",
       " 'F1-score': 0.2631750030474178,\n",
       " 'ROC-AUC': 0.636128556232778}"
      ]
     },
     "execution_count": 19,
     "metadata": {},
     "output_type": "execute_result"
    }
   ],
   "source": [
    "#Second LogisticRegression Model\n",
    "evaluator.Evaluate(logreg2, X_test, y_test)"
   ]
  },
  {
   "cell_type": "markdown",
   "metadata": {},
   "source": [
    " * For all the instances the model predicted positive only 16.2% were actually positive\n",
    " * The model detected 69.8% of all positive instances\n",
    " * Similar to the baseline model, this model did not perform well based on the F1score\n",
    " * This model had a better ROC_AUC score than the baseline which is also above 0.5 indicating its better than a random guess"
   ]
  },
  {
   "cell_type": "code",
   "execution_count": null,
   "metadata": {},
   "outputs": [
    {
     "data": {
      "image/png": "[encoded data removed]",
      "text/plain": [
       "<Figure size 576x432 with 1 Axes>"
      ]
     },
     "metadata": {
      "needs_background": "light"
     },
     "output_type": "display_data"
    },
    {
     "data": {
      "text/plain": [
       "{'Precision': 0.47340051558471996,\n",
       " 'Recall': 0.4357674468773595,\n",
       " 'F1-score': 0.4538051109238978,\n",
       " 'ROC-AUC': 0.6840071385361485}"
      ]
     },
     "execution_count": 20,
     "metadata": {},
     "output_type": "execute_result"
    }
   ],
   "source": [
    "#First DecionTreeClassifier \n",
    "evaluator.Evaluate(clf, X_test, y_test)"
   ]
  },
  {
   "cell_type": "markdown",
   "metadata": {},
   "source": [
    " * For all the instances the model predicted positive 47.3% were actually positive, better than the previous models\n",
    " * The model detected 43.6% of all positive instances\n",
    " * This model performed moderately well based on the F1score of 45.3% better than the previous models\n",
    " * This model had a better ROC_AUC score of 68.4% better than the previous models which is also above 0.5 indicating its better than a random guess"
   ]
  },
  {
   "cell_type": "code",
   "execution_count": null,
   "metadata": {},
   "outputs": [
    {
     "data": {
      "image/png": "[encoded data removed]",
      "text/plain": [
       "<Figure size 576x432 with 1 Axes>"
      ]
     },
     "metadata": {
      "needs_background": "light"
     },
     "output_type": "display_data"
    },
    {
     "data": {
      "text/plain": [
       "{'Precision': 0.16604565730779322,\n",
       " 'Recall': 0.6825585158019631,\n",
       " 'F1-score': 0.2671112893353876,\n",
       " 'ROC-AUC': 0.6334692070042999}"
      ]
     },
     "execution_count": 21,
     "metadata": {},
     "output_type": "execute_result"
    }
   ],
   "source": [
    "#Second DecisionTreeClassifier\n",
    "evaluator.Evaluate(Clf2, X_test, y_test)"
   ]
  },
  {
   "cell_type": "markdown",
   "metadata": {},
   "source": [
    " * For all the instances the model predicted positive only 16.6% were actually positive\n",
    " * The model detected 68.3% of all positive instances\n",
    " * Similar to the baseline model, this model did not perform well based on the F1score of 26.7%\n",
    " * This model had a ROC_AUC score of 63.3% better than the baseline which is also above 0.5 indicating its better than a random guess"
   ]
  },
  {
   "cell_type": "code",
   "execution_count": null,
   "metadata": {},
   "outputs": [
    {
     "data": {
      "image/png": "[encoded data removed]",
      "text/plain": [
       "<Figure size 576x432 with 1 Axes>"
      ]
     },
     "metadata": {
      "needs_background": "light"
     },
     "output_type": "display_data"
    },
    {
     "data": {
      "text/plain": [
       "{'Precision': 0.19782249823127113,\n",
       " 'Recall': 0.5428756336964728,\n",
       " 'F1-score': 0.28997781810848966,\n",
       " 'ROC-AUC': 0.6648590207556814}"
      ]
     },
     "execution_count": 22,
     "metadata": {},
     "output_type": "execute_result"
    }
   ],
   "source": [
    "#Random Forest Classifier\n",
    "evaluator.Evaluate(forest, X_test, y_test)"
   ]
  },
  {
   "cell_type": "markdown",
   "metadata": {},
   "source": [
    " * For all the instances the model predicted positive only 19.8% were actually positive\n",
    " * The model detected 54.3% of all positive instances\n",
    " * Similar to the baseline model, this model did not perform well based on the F1score of 29% indicatin no balance between recall and precision\n",
    " * This model had a better ROC_AUC score than the baseline which is also above 0.5 indicating its better than a random guess"
   ]
  },
  {
   "cell_type": "code",
   "execution_count": null,
   "metadata": {},
   "outputs": [
    {
     "data": {
      "image/png": "[encoded data removed]",
      "text/plain": [
       "<Figure size 576x432 with 1 Axes>"
      ]
     },
     "metadata": {
      "needs_background": "light"
     },
     "output_type": "display_data"
    },
    {
     "data": {
      "text/plain": [
       "{'Precision': 0.9081153588195842,\n",
       " 'Recall': 0.1460468126415705,\n",
       " 'F1-score': 0.2516260918044973,\n",
       " 'ROC-AUC': 0.9009773923539923}"
      ]
     },
     "execution_count": 23,
     "metadata": {},
     "output_type": "execute_result"
    }
   ],
   "source": [
    "#XGBoost Model\n",
    "evaluator.Evaluate(Xg, X_test, y_test)"
   ]
  },
  {
   "cell_type": "markdown",
   "metadata": {},
   "source": [
    " * For all the instances the model predicted positive 90.8% were actually positive which is the highest so far\n",
    " * The model detected 14.6% of all positive instances\n",
    " * The model has  F1score of 25.1% indicating a rather moderate performance\n",
    " * This model had the best ROC-AUC score of 90% which indicates an almost accurate model"
   ]
  },
  {
   "cell_type": "markdown",
   "metadata": {},
   "source": [
    "Based on all the metrics involved in the evaluation, XGBoost model has the best Accuracy score on the test set which  is relatively similar to the train set accuracy score indicating the model was not overfitting\n",
    "It had the highest Precision score of 90% which shows that everytime the model predicted something as positive it was correct 90% of the time\n",
    "With more iterations the XGboost model is the best to implement for an automatic loan approval system"
   ]
  },
  {
   "cell_type": "markdown",
   "metadata": {},
   "source": [
    "## Recommendation"
   ]
  },
  {
   "cell_type": "markdown",
   "metadata": {},
   "source": [
    " * Conduct fairness analysis to prevent discrimination against any group and nsure the model complies with relevant regulations\n",
    " \n",
    " \n",
    " * Provide training for stakeholders and implement a feedback mechanism to improve the model continuously\n",
    " \n",
    " \n",
    " * Continuously monitor model performance post-deployment and Plan for regular updates and retraining with new data to maintain    accuracy and relevance.\n",
    " \n",
    " \n",
    " * Explore the use of advanced machine learning techniques like deep learning to further improve model accuracy and    continuously explore new features that can improve the predictive power of the model."
   ]
  },
  {
   "cell_type": "markdown",
   "metadata": {},
   "source": []
  }
 ],
 "metadata": {
  "kernelspec": {
   "display_name": "Python 3",
   "language": "python",
   "name": "python3"
  },
  "language_info": {
   "codemirror_mode": {
    "name": "ipython",
    "version": 3
   },
   "file_extension": ".py",
   "mimetype": "text/x-python",
   "name": "python",
   "nbconvert_exporter": "python",
   "pygments_lexer": "ipython3",
   "version": "3.8.5"
  }
 },
 "nbformat": 4,
 "nbformat_minor": 2
}
