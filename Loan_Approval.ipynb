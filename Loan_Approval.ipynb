{
 "cells": [
  {
   "cell_type": "markdown",
   "metadata": {},
   "source": [
    "## Final Project Submission\n",
    "\n",
    "Please fill out:\n",
    "* Student name: Hilary Simiyu\n",
    "* Student pace: full time\n",
    "* Scheduled project review date/time: \n",
    "* Instructor name: Nikita Njoroge\n",
    "* Blog post URL:\n"
   ]
  },
  {
   "cell_type": "markdown",
   "metadata": {},
   "source": [
    "# LOAN APPROVAL ANALYSIS FOR THE BANK OF INDIA"
   ]
  },
  {
   "cell_type": "markdown",
   "metadata": {},
   "source": [
    "## Business Understanding"
   ]
  },
  {
   "cell_type": "markdown",
   "metadata": {},
   "source": [
    "### Overview\n",
    "The loan approval project aims to develop a predictive model that can reliably assess an applicant's chances of getting a loan based on their financial and personal characteristics. This approach uses machine learning algorithms and historical data to improve and automate decision-making. By analyzing patterns and trends within the data, the model can provide reliable recommendations, thus aiding the Bank of India, the stakeholder of this project, in reducing the time and resources spent on manual evaluations and improving the consistency of loan approval decisions."
   ]
  },
  {
   "attachments": {
    "images.jpg": {
     "image/jpeg": "[encoded data removed]"
    }
   },
   "cell_type": "markdown",
   "metadata": {},
   "source": [
    "![images.jpg](attachment:images.jpg)"
   ]
  },
  {
   "cell_type": "markdown",
   "metadata": {},
   "source": [
    "#### Challenges\n",
    "The major challenge in developing a loan approval model is the high reliance on high quality data whereby incomplete and inaccuarate data can lead to unrealiable predictions.Additionally, ensuring the model complies with regulatory requirements and ethical considerations, such as preventing discriminatory biases, presents a significant challenge. Also ensuring a balance between the model's complexity and interpretability ia a challange as we have to ensure the stakeholders are able to understand the model but also maintain a bit of complexity for better results."
   ]
  },
  {
   "cell_type": "markdown",
   "metadata": {},
   "source": [
    "#### Proposed Solution\n",
    "The proposed Solution is to create a model with a target accuaracy score of 80% by training it on comprehensive data based on previous applicants such as the employment status and income level.To address the data isues , extensive data preprocessing will be employed with regular bias detection along the way to ensure the model remains fair.The model will be tailored to meet specific business needs and regulatory frameworks for the Bank of India as the key stakeholder"
   ]
  },
  {
   "cell_type": "markdown",
   "metadata": {},
   "source": [
    "In conclusion, the loan approval project aims to significantly enhance the efficiency and accuracy of the loan approval process through advanced machine learning techniques. While challenges such as data quality, the proposed solution focuses on achieving a balance between performance and interpretability. With an accuracy target of 80%, the model is expected to provide reliable predictions that can streamline bank operations, reduce approval times, and maintain fair lending practices. By addressing these challenges and implementing a robust evaluation framework, the project aspires to deliver a valuable tool for banks, including the Bank of India, ensuring its alignment with their operational goals and regulatory requirements."
   ]
  },
  {
   "cell_type": "markdown",
   "metadata": {},
   "source": [
    "### Problem Statement\n",
    "With adavancement in technology and increased competition, The Bank of India wishes to  enhance its loan approval process by developing a predictive model that accurately determines the likelihood of loan approval for applicants.By moving away from manual evaluations to more data-driven solutions to enure faster and reliable decisions.This model will rely on previous customers data and identify patterns from there and predict approval outcomes.The key challenge is to develop a model that not only achieves high accuracy but also adheres to regulatory standards and maintains ethical lending practices.\n"
   ]
  },
  {
   "cell_type": "markdown",
   "metadata": {},
   "source": [
    "### Objectives\n",
    " * To\n",
    " * To\n",
    " * To"
   ]
  },
  {
   "cell_type": "markdown",
   "metadata": {},
   "source": [
    "## Data Understanding"
   ]
  },
  {
   "cell_type": "markdown",
   "metadata": {},
   "source": [
    "For this project, we will make use of the Loan Approval Dataset sourced from Kaggle.The dataset has comprehensive information regarding a loan applicant's financial status, personal attributes such as age and marital status.The dataset has a blend of both numerical and categorical features making it suitable for machine learning models and produce good models that can be adopted into use later on.\n"
   ]
  },
  {
   "cell_type": "markdown",
   "metadata": {},
   "source": [
    "The rows represent a loan applicant in India and the columns in the dataset are:\n",
    " * Id: Unique identifier for each loan applicant.\n",
    " * Income: The income level of the applicant.\n",
    " * Age: Age of the applicant.\n",
    " * Experience: Years of professional experience.\n",
    " * Married/Single: Marital status of the applicant.\n",
    " * House_Ownership: Indicates whether the applicant owns or rents a house.\n",
    " * Car_Ownership: Indicates whether the applicant owns a car.\n",
    " * Profession: Occupation or profession of the applicant.\n",
    " * CITY: City of residence of the applicant.\n",
    " * STATE: State of residence of the applicant.\n",
    " * CURRENT_JOB_YRS: Duration of employment in the current job.\n",
    " * CURRENT_HOUSE_YRS: Duration of residence in the current house.\n",
    " * Risk_Flag: Binary indicator of loan risk, where 1 represents a flagged risky applicant and 0 represents a non-risky applicant."
   ]
  },
  {
   "cell_type": "markdown",
   "metadata": {},
   "source": [
    "####  Import the Necessary Libraries"
   ]
  },
  {
   "cell_type": "code",
   "execution_count": 1,
   "metadata": {},
   "outputs": [],
   "source": [
    "import pandas as pd\n",
    "import numpy as np\n",
    "\n",
    "from sklearn.model_selection import  GridSearchCV\n",
    "from sklearn.linear_model import LogisticRegression\n",
    "from sklearn.tree import DecisionTreeClassifier\n",
    "from sklearn.ensemble import RandomForestClassifier\n",
    "from sklearn.model_selection import train_test_split\n",
    "\n",
    "from xgboost import XGBClassifier\n",
    "from sklearn.preprocessing import StandardScaler, OneHotEncoder\n",
    "from imblearn.over_sampling import SMOTE\n",
    "\n",
    "from sklearn.metrics import accuracy_score, classification_report, confusion_matrix, ConfusionMatrixDisplay\n",
    "from sklearn.metrics import precision_score, recall_score, f1_score, roc_auc_score\n",
    "\n",
    "import matplotlib.pyplot as plt\n",
    "import seaborn as sns\n",
    "%matplotlib inline"
   ]
  },
  {
   "cell_type": "code",
   "execution_count": 2,
   "metadata": {},
   "outputs": [],
   "source": [
    "class Data_cleaning:\n",
    "    def __init__(self) :\n",
    "        pass\n",
    "    \n",
    "    def load_data(self,data_path):\n",
    "        #loading data\n",
    "        df = pd.read_json(data_path)\n",
    "\n",
    "        #print data shape\n",
    "        data_shape = df.shape\n",
    "        print(f\"The dataset contains {data_shape[0]} loan applicants with {data_shape[1]} attributes\")\n",
    "    \n",
    "        #Print Data information\n",
    "        print(df.info())\n",
    "\n",
    "        #Target Column Value Counts\n",
    "        target_value_counts = df['Risk_Flag'].value_counts()\n",
    "        print(\"\\nRisk_Flag value counts:\")\n",
    "        print(\"0 (No Risk): \", target_value_counts.get(0, 0))\n",
    "        print(\"1 (Risk): \", target_value_counts.get(1, 0))\n",
    "\n",
    "        return df\n",
    "    \n",
    "    \n",
    "    def identify_issues(self,dataset):\n",
    "        #initiate an empty dictionary\n",
    "        issues = {}\n",
    "    \n",
    "        # Identify missing values\n",
    "        missing_values = dataset.isnull().sum()\n",
    "    \n",
    "        # Identify duplicate rows\n",
    "        duplicate_rows = dataset.duplicated().sum()\n",
    "    \n",
    "        # Identify null values\n",
    "        null_values = dataset.isna().sum()\n",
    "    \n",
    "        #adding them to the issues dictionary\n",
    "        issues['missing_values'] = missing_values\n",
    "        issues['duplicate_rows'] = duplicate_rows\n",
    "        issues['null_values'] = null_values\n",
    "        \n",
    "        return issues\n",
    "    \n",
    "class Preprocessing: \n",
    "    def __init__(self) :\n",
    "        pass\n",
    "    \n",
    "    #train test split\n",
    "    def prep(self,X, y,size):\n",
    "        #Convert categorical features to numeric\n",
    "        X = pd.get_dummies(X, drop_first=True)\n",
    "\n",
    "        X_train, X_test, y_train, y_test = train_test_split(X, y, test_size=size, random_state=42)\n",
    "        \n",
    "        #Scaling the X_train and X_test\n",
    "        scaler = StandardScaler()\n",
    "        X_train_scal = scaler.fit_transform(X_train)\n",
    "        X_test_scal = scaler.transform(X_test)\n",
    "\n",
    "        return X_train_scal, X_test_scal, y_train, y_test\n",
    "\n",
    "class Analysis:\n",
    "    def __init__(self):\n",
    "        pass\n",
    "\n",
    "    def correlation_heatmap(df):\n",
    "        plt.figure(figsize=(10, 8))\n",
    "        correlation = df.corr()\n",
    "        sns.heatmap(correlation, annot=True, cmap='coolwarm', vmin=-1, vmax=1)\n",
    "        plt.title('Correlation Heatmap')\n",
    "        plt.show()\n",
    "\n",
    "    def Target(df):    \n",
    "        # Distribution of Target Variable\n",
    "        sns.countplot(x='Risk_Flag', data=df)\n",
    "        plt.title('Distribution of Risk_Flag')\n",
    "        plt.show()  \n",
    "        \n",
    "    def plot_feature_importances(self,X, model):\n",
    "        n_features = X_train.shape[1]\n",
    "        plt.figure(figsize=(8,8))\n",
    "        plt.barh(range(n_features), model.feature_importances_, align='center') \n",
    "        plt.yticks(np.arange(n_features), X_train.columns.values) \n",
    "        plt.xlabel('Feature importance')\n",
    "        plt.ylabel('Feature')    \n",
    "\n",
    "\n",
    "class Modeling:\n",
    "    def __init__(self):\n",
    "        pass\n",
    "\n",
    "    def models(self,classifier,X_train,y_train,X_test,y_test):\n",
    "            # Fit the model\n",
    "            classifier.fit(X_train,y_train)\n",
    "\n",
    "            #Make predictions\n",
    "            y_hat_train = classifier.predict(X_train)\n",
    "            y_hat_test = classifier.predict(X_test)  \n",
    "\n",
    "            #Print the accuracy scores for the model test\n",
    "            train_acc = accuracy_score(y_train,y_hat_train)\n",
    "            test_acc = accuracy_score(y_test,y_hat_test)\n",
    "            print(\"\\n\"f\"The model has an accuracy of {test_acc*100:.2f}% on the test test\")\n",
    "            print(f\"The Model has an accuracy of {train_acc*100:.2f}% on the train test\")\n",
    "            \n",
    "            return classifier.score(X_test, y_test)\n",
    "        \n",
    "class Evaluation:\n",
    "    def __init__(self):\n",
    "        pass\n",
    "    \n",
    "    def Evaluate(self,classifier, X_test, y_test):\n",
    "        # Make predictions\n",
    "        y_pred = classifier.predict(X_test)\n",
    "        # Take the probability of the positive class\n",
    "        y_pred_probabilities = classifier.predict_proba(X_test)[:, 1]  \n",
    "    \n",
    "        # Calculate evaluation metrics\n",
    "        precision = precision_score(y_test, y_pred)\n",
    "        recall = recall_score(y_test, y_pred)\n",
    "        f1 = f1_score(y_test, y_pred)\n",
    "        roc_auc = roc_auc_score(y_test, y_pred_probabilities)\n",
    "    \n",
    "         # Plot confusion matrix\n",
    "        cm = confusion_matrix(y_test, y_pred)\n",
    "        plt.figure(figsize=(8, 6))\n",
    "        sns.heatmap(cm, annot=True, fmt='d', cmap='Blues', cbar=False,\n",
    "                    xticklabels=['Predicted Negative', 'Predicted Positive'],\n",
    "                    yticklabels=['Actual Negative', 'Actual Positive'])\n",
    "        plt.xlabel('Predicted label')\n",
    "        plt.ylabel('True label')\n",
    "        plt.title('Confusion Matrix')\n",
    "        plt.show()\n",
    "    \n",
    "        # Create dictionary to store evaluation results\n",
    "        evaluation_results = {\n",
    "                             'Precision': precision,\n",
    "                             'Recall': recall,\n",
    "                             'F1-score': f1,\n",
    "                             'ROC-AUC': roc_auc\n",
    "                             }\n",
    "    \n",
    "        return evaluation_results\n",
    "             "
   ]
  },
  {
   "cell_type": "code",
   "execution_count": 3,
   "metadata": {},
   "outputs": [
    {
     "name": "stdout",
     "output_type": "stream",
     "text": [
      "The dataset contains 252000 loan applicants with 13 attributes\n",
      "<class 'pandas.core.frame.DataFrame'>\n",
      "Int64Index: 252000 entries, 0 to 251999\n",
      "Data columns (total 13 columns):\n",
      " #   Column             Non-Null Count   Dtype \n",
      "---  ------             --------------   ----- \n",
      " 0   Id                 252000 non-null  int64 \n",
      " 1   Income             252000 non-null  int64 \n",
      " 2   Age                252000 non-null  int64 \n",
      " 3   Experience         252000 non-null  int64 \n",
      " 4   Married/Single     252000 non-null  object\n",
      " 5   House_Ownership    252000 non-null  object\n",
      " 6   Car_Ownership      252000 non-null  object\n",
      " 7   Profession         252000 non-null  object\n",
      " 8   CITY               252000 non-null  object\n",
      " 9   STATE              252000 non-null  object\n",
      " 10  CURRENT_JOB_YRS    252000 non-null  int64 \n",
      " 11  CURRENT_HOUSE_YRS  252000 non-null  int64 \n",
      " 12  Risk_Flag          252000 non-null  int64 \n",
      "dtypes: int64(7), object(6)\n",
      "memory usage: 26.9+ MB\n",
      "None\n",
      "\n",
      "Risk_Flag value counts:\n",
      "0 (No Risk):  221004\n",
      "1 (Risk):  30996\n"
     ]
    },
    {
     "data": {
      "text/html": [
       "<div>\n",
       "<style scoped>\n",
       "    .dataframe tbody tr th:only-of-type {\n",
       "        vertical-align: middle;\n",
       "    }\n",
       "\n",
       "    .dataframe tbody tr th {\n",
       "        vertical-align: top;\n",
       "    }\n",
       "\n",
       "    .dataframe thead th {\n",
       "        text-align: right;\n",
       "    }\n",
       "</style>\n",
       "<table border=\"1\" class=\"dataframe\">\n",
       "  <thead>\n",
       "    <tr style=\"text-align: right;\">\n",
       "      <th></th>\n",
       "      <th>Id</th>\n",
       "      <th>Income</th>\n",
       "      <th>Age</th>\n",
       "      <th>Experience</th>\n",
       "      <th>Married/Single</th>\n",
       "      <th>House_Ownership</th>\n",
       "      <th>Car_Ownership</th>\n",
       "      <th>Profession</th>\n",
       "      <th>CITY</th>\n",
       "      <th>STATE</th>\n",
       "      <th>CURRENT_JOB_YRS</th>\n",
       "      <th>CURRENT_HOUSE_YRS</th>\n",
       "      <th>Risk_Flag</th>\n",
       "    </tr>\n",
       "  </thead>\n",
       "  <tbody>\n",
       "    <tr>\n",
       "      <th>0</th>\n",
       "      <td>1</td>\n",
       "      <td>1303834</td>\n",
       "      <td>23</td>\n",
       "      <td>3</td>\n",
       "      <td>single</td>\n",
       "      <td>rented</td>\n",
       "      <td>no</td>\n",
       "      <td>Mechanical_engineer</td>\n",
       "      <td>Rewa</td>\n",
       "      <td>Madhya_Pradesh</td>\n",
       "      <td>3</td>\n",
       "      <td>13</td>\n",
       "      <td>0</td>\n",
       "    </tr>\n",
       "    <tr>\n",
       "      <th>1</th>\n",
       "      <td>2</td>\n",
       "      <td>7574516</td>\n",
       "      <td>40</td>\n",
       "      <td>10</td>\n",
       "      <td>single</td>\n",
       "      <td>rented</td>\n",
       "      <td>no</td>\n",
       "      <td>Software_Developer</td>\n",
       "      <td>Parbhani</td>\n",
       "      <td>Maharashtra</td>\n",
       "      <td>9</td>\n",
       "      <td>13</td>\n",
       "      <td>0</td>\n",
       "    </tr>\n",
       "    <tr>\n",
       "      <th>2</th>\n",
       "      <td>3</td>\n",
       "      <td>3991815</td>\n",
       "      <td>66</td>\n",
       "      <td>4</td>\n",
       "      <td>married</td>\n",
       "      <td>rented</td>\n",
       "      <td>no</td>\n",
       "      <td>Technical_writer</td>\n",
       "      <td>Alappuzha</td>\n",
       "      <td>Kerala</td>\n",
       "      <td>4</td>\n",
       "      <td>10</td>\n",
       "      <td>0</td>\n",
       "    </tr>\n",
       "    <tr>\n",
       "      <th>3</th>\n",
       "      <td>4</td>\n",
       "      <td>6256451</td>\n",
       "      <td>41</td>\n",
       "      <td>2</td>\n",
       "      <td>single</td>\n",
       "      <td>rented</td>\n",
       "      <td>yes</td>\n",
       "      <td>Software_Developer</td>\n",
       "      <td>Bhubaneswar</td>\n",
       "      <td>Odisha</td>\n",
       "      <td>2</td>\n",
       "      <td>12</td>\n",
       "      <td>1</td>\n",
       "    </tr>\n",
       "    <tr>\n",
       "      <th>4</th>\n",
       "      <td>5</td>\n",
       "      <td>5768871</td>\n",
       "      <td>47</td>\n",
       "      <td>11</td>\n",
       "      <td>single</td>\n",
       "      <td>rented</td>\n",
       "      <td>no</td>\n",
       "      <td>Civil_servant</td>\n",
       "      <td>Tiruchirappalli[10]</td>\n",
       "      <td>Tamil_Nadu</td>\n",
       "      <td>3</td>\n",
       "      <td>14</td>\n",
       "      <td>1</td>\n",
       "    </tr>\n",
       "  </tbody>\n",
       "</table>\n",
       "</div>"
      ],
      "text/plain": [
       "   Id   Income  Age  Experience Married/Single House_Ownership Car_Ownership  \\\n",
       "0   1  1303834   23           3         single          rented            no   \n",
       "1   2  7574516   40          10         single          rented            no   \n",
       "2   3  3991815   66           4        married          rented            no   \n",
       "3   4  6256451   41           2         single          rented           yes   \n",
       "4   5  5768871   47          11         single          rented            no   \n",
       "\n",
       "            Profession                 CITY           STATE  CURRENT_JOB_YRS  \\\n",
       "0  Mechanical_engineer                 Rewa  Madhya_Pradesh                3   \n",
       "1   Software_Developer             Parbhani     Maharashtra                9   \n",
       "2     Technical_writer            Alappuzha          Kerala                4   \n",
       "3   Software_Developer          Bhubaneswar          Odisha                2   \n",
       "4        Civil_servant  Tiruchirappalli[10]      Tamil_Nadu                3   \n",
       "\n",
       "   CURRENT_HOUSE_YRS  Risk_Flag  \n",
       "0                 13          0  \n",
       "1                 13          0  \n",
       "2                 10          0  \n",
       "3                 12          1  \n",
       "4                 14          1  "
      ]
     },
     "execution_count": 3,
     "metadata": {},
     "output_type": "execute_result"
    }
   ],
   "source": [
    "#Initiate the Data_Cleaning class\n",
    "Data_Prep = Data_cleaning()\n",
    "\n",
    "#Using the load_data attribute\n",
    "loan_data = Data_Prep.load_data('Data\\loan_approval_dataset.json')\n",
    "\n",
    "#display first 5 rows\n",
    "loan_data.head()"
   ]
  },
  {
   "cell_type": "markdown",
   "metadata": {},
   "source": [
    "The dataset contains 13 columns, each representing a distinct personal attribute, and 252,000 rows, with each row corresponding to a loan application.\n",
    "This dataset has a mix of various datatypes: Id, Income, Age, Experience, Current job years, Current House years and Risk Flag as integers(int64)to facilitate mathematical computations and the rest as objects to accommodate text-based categories.\n"
   ]
  },
  {
   "cell_type": "markdown",
   "metadata": {},
   "source": [
    "## Data Analysis and Cleaning"
   ]
  },
  {
   "cell_type": "markdown",
   "metadata": {},
   "source": [
    "After getting an overview of what the dataset contains let's move on to clean it but first identify the issues with it"
   ]
  },
  {
   "cell_type": "code",
   "execution_count": 4,
   "metadata": {},
   "outputs": [
    {
     "data": {
      "text/plain": [
       "{'missing_values': Id                   0\n",
       " Income               0\n",
       " Age                  0\n",
       " Experience           0\n",
       " Married/Single       0\n",
       " House_Ownership      0\n",
       " Car_Ownership        0\n",
       " Profession           0\n",
       " CITY                 0\n",
       " STATE                0\n",
       " CURRENT_JOB_YRS      0\n",
       " CURRENT_HOUSE_YRS    0\n",
       " Risk_Flag            0\n",
       " dtype: int64,\n",
       " 'duplicate_rows': 0,\n",
       " 'null_values': Id                   0\n",
       " Income               0\n",
       " Age                  0\n",
       " Experience           0\n",
       " Married/Single       0\n",
       " House_Ownership      0\n",
       " Car_Ownership        0\n",
       " Profession           0\n",
       " CITY                 0\n",
       " STATE                0\n",
       " CURRENT_JOB_YRS      0\n",
       " CURRENT_HOUSE_YRS    0\n",
       " Risk_Flag            0\n",
       " dtype: int64}"
      ]
     },
     "execution_count": 4,
     "metadata": {},
     "output_type": "execute_result"
    }
   ],
   "source": [
    "Data_Prep.identify_issues(loan_data)"
   ]
  },
  {
   "cell_type": "markdown",
   "metadata": {},
   "source": [
    "The dataset doesn't have any missing, null or duplicate values. We can move on to analysis"
   ]
  },
  {
   "cell_type": "markdown",
   "metadata": {},
   "source": [
    "#### a) Univariate Analysis"
   ]
  },
  {
   "cell_type": "code",
   "execution_count": 5,
   "metadata": {},
   "outputs": [],
   "source": [
    "# Split the data into features (X) and target variable (y)\n",
    "X = loan_data.drop(columns=[\"Risk_Flag\"])\n",
    "y = loan_data[\"Risk_Flag\"]"
   ]
  },
  {
   "cell_type": "markdown",
   "metadata": {},
   "source": [
    "## Modeling"
   ]
  },
  {
   "cell_type": "markdown",
   "metadata": {},
   "source": [
    "Many models were created for this project. The LogisticRegression was used as baseline. We designed DecisionTreeClassifier, RandomForestClassifier, and XGBoost models, with and without using SMOTE, to counteract class imbalances. We also tested models with and without reduced features."
   ]
  },
  {
   "cell_type": "markdown",
   "metadata": {},
   "source": [
    "### a) Logistic Regression\n",
    "\n"
   ]
  },
  {
   "cell_type": "markdown",
   "metadata": {},
   "source": [
    "To avoid data leakage we'll split the dataset into train and test and perform some preprocessing on it"
   ]
  },
  {
   "cell_type": "markdown",
   "metadata": {},
   "source": [
    "The baseline model is a simple Logistuc Regression which we will use to also iterate through some test sizes to find the best testsize for splitting our data"
   ]
  },
  {
   "cell_type": "code",
   "execution_count": 6,
   "metadata": {},
   "outputs": [
    {
     "name": "stdout",
     "output_type": "stream",
     "text": [
      "\n",
      "The model has an accuracy of 55.66% on the test test\n",
      "The Model has an accuracy of 56.02% on the train test\n",
      "\n",
      "The model has an accuracy of 55.56% on the test test\n",
      "The Model has an accuracy of 55.87% on the train test\n",
      "\n",
      "The model has an accuracy of 55.67% on the test test\n",
      "The Model has an accuracy of 55.82% on the train test\n",
      "\n",
      "The model has an accuracy of 55.54% on the test test\n",
      "The Model has an accuracy of 55.89% on the train test\n",
      "Best test size: 0.3 with accuracy: 55.67%\n"
     ]
    }
   ],
   "source": [
    "preprocessor = Preprocessing()\n",
    "modeler = Modeling()\n",
    "logreg = LogisticRegression(fit_intercept=False, C=1e12, solver='liblinear', random_state=42)\n",
    "\n",
    "best_test_size = 0\n",
    "best_accuracy = 0\n",
    "\n",
    "for size in [0.2, 0.25, 0.3, 0.4]:\n",
    "    X_train, X_test, y_train, y_test = preprocessor.prep(X, y, size)\n",
    "    test_accuracy = modeler.models(logreg, X_train, y_train, X_test, y_test)\n",
    "    \n",
    "    if test_accuracy > best_accuracy:\n",
    "        best_accuracy = test_accuracy\n",
    "        best_test_size = size\n",
    "\n",
    "print(f\"Best test size: {best_test_size} with accuracy: {best_accuracy*100:.2f}%\")"
   ]
  },
  {
   "cell_type": "markdown",
   "metadata": {},
   "source": [
    "The best test size is 30% for the remaining models we will use this.\n",
    "\n",
    "The second Iteration of the Logistic Regression will have a penalty included and also balance the weights of the class"
   ]
  },
  {
   "cell_type": "code",
   "execution_count": 7,
   "metadata": {},
   "outputs": [],
   "source": [
    "X_train, X_test, y_train, y_test = preprocessor.prep(X, y, 0.3)"
   ]
  },
  {
   "cell_type": "code",
   "execution_count": 8,
   "metadata": {},
   "outputs": [],
   "source": [
    "logreg2 = LogisticRegression(class_weight='balanced',\n",
    "                            penalty='l2',\n",
    "                            fit_intercept=False,\n",
    "                            C=1e12, solver='liblinear'\n",
    "                            )"
   ]
  },
  {
   "cell_type": "code",
   "execution_count": 9,
   "metadata": {},
   "outputs": [
    {
     "name": "stdout",
     "output_type": "stream",
     "text": [
      "\n",
      "The model has an accuracy of 52.03% on the test test\n",
      "The Model has an accuracy of 52.23% on the train test\n"
     ]
    },
    {
     "data": {
      "text/plain": [
       "0.5202645502645503"
      ]
     },
     "execution_count": 9,
     "metadata": {},
     "output_type": "execute_result"
    }
   ],
   "source": [
    "modeler.models(logreg2, X_train, y_train, X_test, y_test)    "
   ]
  },
  {
   "cell_type": "markdown",
   "metadata": {},
   "source": [
    "### b) Decision Trees"
   ]
  },
  {
   "cell_type": "markdown",
   "metadata": {},
   "source": [
    "The second model will be a Desision Tree Classifier"
   ]
  },
  {
   "cell_type": "code",
   "execution_count": 10,
   "metadata": {},
   "outputs": [],
   "source": [
    "clf = DecisionTreeClassifier()"
   ]
  },
  {
   "cell_type": "code",
   "execution_count": 11,
   "metadata": {
    "scrolled": true
   },
   "outputs": [
    {
     "name": "stdout",
     "output_type": "stream",
     "text": [
      "\n",
      "The model has an accuracy of 87.08% on the test test\n",
      "The Model has an accuracy of 100.00% on the train test\n"
     ]
    },
    {
     "data": {
      "text/plain": [
       "0.8708068783068783"
      ]
     },
     "execution_count": 11,
     "metadata": {},
     "output_type": "execute_result"
    }
   ],
   "source": [
    "modeler.models(clf, X_train, y_train, X_test, y_test) "
   ]
  },
  {
   "cell_type": "markdown",
   "metadata": {},
   "source": [
    "* Compared to the LogisticRegression the model is performing much better with an improved accuracy score\n",
    "* However the model is overfitting to the train data, parameter tuning is needed\n",
    "\n",
    "The second iteration will aplly hyperparameter optimization to try increase the accuracy"
   ]
  },
  {
   "cell_type": "markdown",
   "metadata": {},
   "source": [
    "the model's accuracy on the training set is significantly higher (100.00%) than its accuracy on the test set (87.08%). This large disparity between training and test accuracies suggests that the model might be overfitting."
   ]
  },
  {
   "cell_type": "code",
   "execution_count": 12,
   "metadata": {},
   "outputs": [],
   "source": [
    "Clf2 = DecisionTreeClassifier(criterion='entropy',\n",
    "                              max_depth = 4,\n",
    "                              min_samples_split=5,\n",
    "                              min_samples_leaf=3\n",
    "                              )"
   ]
  },
  {
   "cell_type": "code",
   "execution_count": 13,
   "metadata": {},
   "outputs": [
    {
     "name": "stdout",
     "output_type": "stream",
     "text": [
      "\n",
      "The model has an accuracy of 87.74% on the test test\n",
      "The Model has an accuracy of 87.69% on the train test\n"
     ]
    },
    {
     "data": {
      "text/plain": [
       "0.8773544973544973"
      ]
     },
     "execution_count": 13,
     "metadata": {},
     "output_type": "execute_result"
    }
   ],
   "source": [
    "modeler.models(Clf2, X_train, y_train, X_test, y_test) "
   ]
  },
  {
   "cell_type": "markdown",
   "metadata": {},
   "source": [
    "### c) Random Forest\n",
    "\n",
    "The next model will be a random forest which is an essemble o Decision Trees"
   ]
  },
  {
   "cell_type": "code",
   "execution_count": 14,
   "metadata": {},
   "outputs": [],
   "source": [
    "forest = RandomForestClassifier(n_estimators=100 ,\n",
    "                                max_depth = 5,\n",
    "                                )"
   ]
  },
  {
   "cell_type": "code",
   "execution_count": 15,
   "metadata": {},
   "outputs": [
    {
     "name": "stdout",
     "output_type": "stream",
     "text": [
      "\n",
      "The model has an accuracy of 87.74% on the test test\n"
     ]
    }
   ],
   "source": [
    "modeler.models(forest, X_train, y_train, X_test, y_test) "
   ]
  },
  {
   "cell_type": "markdown",
   "metadata": {},
   "source": [
    "### d) XGBoost\n",
    "\n",
    "Implementing gradient descent algorithm"
   ]
  },
  {
   "cell_type": "code",
   "execution_count": 16,
   "metadata": {},
   "outputs": [],
   "source": [
    "Xg = XGBClassifier()"
   ]
  },
  {
   "cell_type": "code",
   "execution_count": 17,
   "metadata": {},
   "outputs": [
    {
     "name": "stdout",
     "output_type": "stream",
     "text": [
      "\n",
      "The model has an accuracy of 89.35% on the test test\n",
      "The Model has an accuracy of 89.73% on the train test\n"
     ]
    },
    {
     "data": {
      "text/plain": [
       "0.8934656084656085"
      ]
     },
     "execution_count": 17,
     "metadata": {},
     "output_type": "execute_result"
    }
   ],
   "source": [
    "modeler.models(Xg, X_train, y_train, X_test, y_test) "
   ]
  },
  {
   "cell_type": "markdown",
   "metadata": {},
   "source": [
    "## Evaluation"
   ]
  },
  {
   "cell_type": "markdown",
   "metadata": {},
   "source": [
    "We'll evaluate the models by checking their metrics and also plotting a confusion matrix of the same"
   ]
  },
  {
   "cell_type": "code",
   "execution_count": 18,
   "metadata": {},
   "outputs": [
    {
     "data": {
      "image/png": "[encoded data removed]",
      "text/plain": [
       "<Figure size 576x432 with 1 Axes>"
      ]
     },
     "metadata": {
      "needs_background": "light"
     },
     "output_type": "display_data"
    },
    {
     "data": {
      "text/plain": [
       "{'Precision': 0.16512571412800486,\n",
       " 'Recall': 0.6453457016503074,\n",
       " 'F1-score': 0.2629658931082982,\n",
       " 'ROC-AUC': 0.6350329807162958}"
      ]
     },
     "execution_count": 18,
     "metadata": {},
     "output_type": "execute_result"
    }
   ],
   "source": [
    "evaluator = Evaluation()\n",
    "\n",
    "#First LogisticRegression Model\n",
    "evaluator.Evaluate(logreg, X_test, y_test)"
   ]
  },
  {
   "cell_type": "markdown",
   "metadata": {},
   "source": [
    "These are the evaluation metrics for a classification model:\n",
    "\n",
    "Precision: 0.165\n",
    "\n",
    "This indicates that out of all the instances predicted as positive by the model, only about 16.5% were actually positive.\n",
    "Recall: 0.645\n",
    "\n",
    "This means that the model correctly identified about 64.5% of all actual positive instances.\n",
    "F1-score: 0.263\n",
    "\n",
    "The F1-score is the harmonic mean of precision and recall. It balances between precision and recall, with higher values indicating better performance. In this case, the F1-score is relatively low at 0.263.\n",
    "ROC-AUC: 0.635\n",
    "\n",
    "The ROC-AUC (Receiver Operating Characteristic - Area Under the Curve) is a measure of the model's ability to discriminate between positive and negative classes across all threshold values. A higher ROC-AUC score (closer to 1) indicates better performance. Here, the ROC-AUC is 0.635, indicating moderate discriminative ability of the model."
   ]
  },
  {
   "cell_type": "code",
   "execution_count": 19,
   "metadata": {},
   "outputs": [
    {
     "data": {
      "image/png": "[encoded data removed]",
      "text/plain": [
       "<Figure size 576x432 with 1 Axes>"
      ]
     },
     "metadata": {
      "needs_background": "light"
     },
     "output_type": "display_data"
    },
    {
     "data": {
      "text/plain": [
       "{'Precision': 0.16212360141172938,\n",
       " 'Recall': 0.6986301369863014,\n",
       " 'F1-score': 0.2631750030474178,\n",
       " 'ROC-AUC': 0.636128556232778}"
      ]
     },
     "execution_count": 19,
     "metadata": {},
     "output_type": "execute_result"
    }
   ],
   "source": [
    "#Second LogisticRegression Model\n",
    "evaluator.Evaluate(logreg2, X_test, y_test)"
   ]
  },
  {
   "cell_type": "code",
   "execution_count": 20,
   "metadata": {},
   "outputs": [
    {
     "data": {
      "image/png": "[encoded data removed]",
      "text/plain": [
       "<Figure size 576x432 with 1 Axes>"
      ]
     },
     "metadata": {
      "needs_background": "light"
     },
     "output_type": "display_data"
    },
    {
     "data": {
      "text/plain": [
       "{'Precision': 0.47107534406344764,\n",
       " 'Recall': 0.43565958364793445,\n",
       " 'F1-score': 0.45267581955729896,\n",
       " 'ROC-AUC': 0.6836441415051022}"
      ]
     },
     "execution_count": 20,
     "metadata": {},
     "output_type": "execute_result"
    }
   ],
   "source": [
    "#First DecionTreeClassifier \n",
    "evaluator.Evaluate(clf, X_test, y_test)"
   ]
  },
  {
   "cell_type": "code",
   "execution_count": 21,
   "metadata": {},
   "outputs": [
    {
     "data": {
      "image/png": "[encoded data removed]",
      "text/plain": [
       "<Figure size 576x432 with 1 Axes>"
      ]
     },
     "metadata": {
      "needs_background": "light"
     },
     "output_type": "display_data"
    },
    {
     "data": {
      "text/plain": [
       "{'Precision': 0.0,\n",
       " 'Recall': 0.0,\n",
       " 'F1-score': 0.0,\n",
       " 'ROC-AUC': 0.6345733086090974}"
      ]
     },
     "execution_count": 21,
     "metadata": {},
     "output_type": "execute_result"
    }
   ],
   "source": [
    "#Second DecisionTreeClassifier\n",
    "evaluator.Evaluate(Clf2, X_test, y_test)"
   ]
  },
  {
   "cell_type": "code",
   "execution_count": 22,
   "metadata": {},
   "outputs": [
    {
     "name": "stderr",
     "output_type": "stream",
     "text": [
      "c:\\Users\\HP\\anaconda3\\envs\\learn-env\\lib\\site-packages\\sklearn\\metrics\\_classification.py:1221: UndefinedMetricWarning: Precision is ill-defined and being set to 0.0 due to no predicted samples. Use `zero_division` parameter to control this behavior.\n",
      "  _warn_prf(average, modifier, msg_start, len(result))\n"
     ]
    },
    {
     "data": {
      "image/png": "[encoded data removed]",
      "text/plain": [
       "<Figure size 576x432 with 1 Axes>"
      ]
     },
     "metadata": {
      "needs_background": "light"
     },
     "output_type": "display_data"
    },
    {
     "data": {
      "text/plain": [
       "{'Precision': 0.0,\n",
       " 'Recall': 0.0,\n",
       " 'F1-score': 0.0,\n",
       " 'ROC-AUC': 0.6730279695587067}"
      ]
     },
     "execution_count": 22,
     "metadata": {},
     "output_type": "execute_result"
    }
   ],
   "source": [
    "#Random Forest Classifier\n",
    "evaluator.Evaluate(forest, X_test, y_test)"
   ]
  },
  {
   "cell_type": "code",
   "execution_count": 23,
   "metadata": {},
   "outputs": [
    {
     "data": {
      "image/png": "[encoded data removed]",
      "text/plain": [
       "<Figure size 576x432 with 1 Axes>"
      ]
     },
     "metadata": {
      "needs_background": "light"
     },
     "output_type": "display_data"
    },
    {
     "data": {
      "text/plain": [
       "{'Precision': 0.9081153588195842,\n",
       " 'Recall': 0.1460468126415705,\n",
       " 'F1-score': 0.2516260918044973,\n",
       " 'ROC-AUC': 0.9009773923539923}"
      ]
     },
     "execution_count": 23,
     "metadata": {},
     "output_type": "execute_result"
    }
   ],
   "source": [
    "#XGBoost Model\n",
    "evaluator.Evaluate(Xg, X_test, y_test)"
   ]
  },
  {
   "cell_type": "markdown",
   "metadata": {},
   "source": [
    "## Recommendation"
   ]
  },
  {
   "cell_type": "markdown",
   "metadata": {},
   "source": [
    " * Conduct fairness analysis to prevent discrimination against any group and nsure the model complies with relevant regulations\n",
    " \n",
    " \n",
    " * Provide training for stakeholders and implement a feedback mechanism to improve the model continuously\n",
    " \n",
    " \n",
    " * Continuously monitor model performance post-deployment and Plan for regular updates and retraining with new data to maintain    accuracy and relevance.\n",
    " \n",
    " \n",
    " * Explore the use of advanced machine learning techniques like deep learning to further improve model accuracy and    continuously explore new features that can improve the predictive power of the model."
   ]
  },
  {
   "cell_type": "code",
   "execution_count": null,
   "metadata": {},
   "outputs": [],
   "source": []
  }
 ],
 "metadata": {
  "kernelspec": {
   "display_name": "Python 3",
   "language": "python",
   "name": "python3"
  },
  "language_info": {
   "codemirror_mode": {
    "name": "ipython",
    "version": 3
   },
   "file_extension": ".py",
   "mimetype": "text/x-python",
   "name": "python",
   "nbconvert_exporter": "python",
   "pygments_lexer": "ipython3",
   "version": "3.8.5"
  }
 },
 "nbformat": 4,
 "nbformat_minor": 2
}
