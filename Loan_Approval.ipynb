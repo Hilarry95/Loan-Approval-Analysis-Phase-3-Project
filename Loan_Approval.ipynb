{
 "cells": [
  {
   "cell_type": "markdown",
   "metadata": {},
   "source": [
    "## Final Project Submission\n",
    "\n",
    "Please fill out:\n",
    "* Student name: Hilary Simiyu\n",
    "* Student pace: full time\n",
    "* Scheduled project review date/time: \n",
    "* Instructor name: Nikita Njoroge\n",
    "* Blog post URL:\n"
   ]
  },
  {
   "cell_type": "markdown",
   "metadata": {},
   "source": [
    "# LOAN APPROVAL ANALYSIS FOR THE BANK OF INDIA"
   ]
  },
  {
   "cell_type": "markdown",
   "metadata": {},
   "source": [
    "## Business Understanding"
   ]
  },
  {
   "cell_type": "markdown",
   "metadata": {},
   "source": [
    "### Overview\n",
    "The loan approval project aims to develop a predictive model that can reliably assess an applicant's chances of getting a loan based on their financial and personal characteristics. This approach uses machine learning algorithms and historical data to improve and automate decision-making. By analyzing patterns and trends within the data, the model can provide reliable recommendations, thus aiding the Bank of India, the stakeholder of this project, in reducing the time and resources spent on manual evaluations and improving the consistency of loan approval decisions."
   ]
  },
  {
   "attachments": {
    "images.jpg": {
     "image/jpeg": "[encoded data removed]"
    }
   },
   "cell_type": "markdown",
   "metadata": {},
   "source": [
    "![images.jpg](attachment:images.jpg)"
   ]
  },
  {
   "cell_type": "markdown",
   "metadata": {},
   "source": [
    "#### Challenges\n",
    "The major challenge in developing a loan approval model is the high reliance on high quality data whereby incomplete and inaccuarate data can lead to unrealiable predictions.Additionally, ensuring the model complies with regulatory requirements and ethical considerations, such as preventing discriminatory biases, presents a significant challenge. Also ensuring a balance between the model's complexity and interpretability ia a challange as we have to ensure the stakeholders are able to understand the model but also maintain a bit of complexity for better results."
   ]
  },
  {
   "cell_type": "markdown",
   "metadata": {},
   "source": [
    "#### Proposed Solution\n",
    "The proposed Solution is to create a model with a target accuaracy score of 80% by training it on comprehensive data based on previous applicants such as the employment status and income level.To address the data isues , extensive data preprocessing will be employed with regular bias detection along the way to ensure the model remains fair.The model will be tailored to meet specific business needs and regulatory frameworks for the Bank of India as the key stakeholder"
   ]
  },
  {
   "cell_type": "markdown",
   "metadata": {},
   "source": [
    "In conclusion, the loan approval project aims to significantly enhance the efficiency and accuracy of the loan approval process through advanced machine learning techniques. While challenges such as data quality, the proposed solution focuses on achieving a balance between performance and interpretability. With an accuracy target of 80%, the model is expected to provide reliable predictions that can streamline bank operations, reduce approval times, and maintain fair lending practices. By addressing these challenges and implementing a robust evaluation framework, the project aspires to deliver a valuable tool for banks, including the Bank of India, ensuring its alignment with their operational goals and regulatory requirements."
   ]
  },
  {
   "cell_type": "markdown",
   "metadata": {},
   "source": [
    "### Problem Statement\n",
    "With adavancement in technology and increased competition, The Bank of India wishes to  enhance its loan approval process by developing a predictive model that accurately determines the likelihood of loan approval for applicants.By moving away from manual evaluations to more data-driven solutions to enure faster and reliable decisions.This model will rely on previous customers data and identify patterns from there and predict approval outcomes.The key challenge is to develop a model that not only achieves high accuracy but also adheres to regulatory standards and maintains ethical lending practices.\n"
   ]
  },
  {
   "cell_type": "markdown",
   "metadata": {},
   "source": [
    "### Objectives\n",
    " * To\n",
    " * To\n",
    " * To"
   ]
  },
  {
   "cell_type": "markdown",
   "metadata": {},
   "source": [
    "## Data Understanding"
   ]
  },
  {
   "cell_type": "markdown",
   "metadata": {},
   "source": [
    "For this project, we will make use of the Loan Approval Dataset sourced from Kaggle.The dataset has comprehensive information regarding a loan applicant's financial status, personal attributes such as age and marital status.The dataset has a blend of both numerical and categorical features making it suitable for machine learning models and produce good models that can be adopted into use later on.\n"
   ]
  },
  {
   "cell_type": "markdown",
   "metadata": {},
   "source": [
    "The rows represent a loan applicant in India and the columns in the dataset are:\n",
    " * Id: Unique identifier for each loan applicant.\n",
    " * Income: The income level of the applicant.\n",
    " * Age: Age of the applicant.\n",
    " * Experience: Years of professional experience.\n",
    " * Married/Single: Marital status of the applicant.\n",
    " * House_Ownership: Indicates whether the applicant owns or rents a house.\n",
    " * Car_Ownership: Indicates whether the applicant owns a car.\n",
    " * Profession: Occupation or profession of the applicant.\n",
    " * CITY: City of residence of the applicant.\n",
    " * STATE: State of residence of the applicant.\n",
    " * CURRENT_JOB_YRS: Duration of employment in the current job.\n",
    " * CURRENT_HOUSE_YRS: Duration of residence in the current house.\n",
    " * Risk_Flag: Binary indicator of loan risk, where 1 represents a flagged risky applicant and 0 represents a non-risky applicant."
   ]
  },
  {
   "cell_type": "markdown",
   "metadata": {},
   "source": [
    "####  Import the Necessary Libraries"
   ]
  },
  {
   "cell_type": "code",
   "execution_count": 2,
   "metadata": {},
   "outputs": [],
   "source": [
    "import pandas as pd\n",
    "import numpy as np\n",
    "\n",
    "from sklearn.model_selection import  GridSearchCV\n",
    "from sklearn.linear_model import LogisticRegression\n",
    "from sklearn.tree import DecisionTreeClassifier\n",
    "from sklearn.ensemble import RandomForestClassifier\n",
    "from sklearn.model_selection import train_test_split\n",
    "\n",
    "from xgboost import XGBClassifier\n",
    "from sklearn.preprocessing import StandardScaler, OneHotEncoder\n",
    "from imblearn.over_sampling import SMOTE\n",
    "\n",
    "from sklearn.metrics import accuracy_score, classification_report, confusion_matrix, ConfusionMatrixDisplay\n",
    "\n",
    "import matplotlib.pyplot as plt\n",
    "import seaborn as sns\n",
    "%matplotlib inline"
   ]
  },
  {
   "cell_type": "code",
   "execution_count": 15,
   "metadata": {},
   "outputs": [],
   "source": [
    "\n",
    "class Data_cleaning:\n",
    "    def __init__(self) :\n",
    "        pass\n",
    "    \n",
    "    def load_data(self,data_path):\n",
    "        #loading data\n",
    "        df = pd.read_json(data_path)\n",
    "\n",
    "        #print data shape\n",
    "        data_shape = df.shape\n",
    "        print(f\"The dataset contains {data_shape[0]} loan applicants with {data_shape[1]} attributes\")\n",
    "    \n",
    "        #Print Data information\n",
    "        print(df.info())\n",
    "\n",
    "        #Target Column Value Counts\n",
    "        target_value_counts = df['Risk_Flag'].value_counts()\n",
    "        print(\"\\nRisk_Flag value counts:\")\n",
    "        print(\"0 (No Risk): \", target_value_counts.get(0, 0))\n",
    "        print(\"1 (Risk): \", target_value_counts.get(1, 0))\n",
    "\n",
    "        return df\n",
    "    \n",
    "    \n",
    "    def identify_issues(self,dataset):\n",
    "        #initiate an empty dictionary\n",
    "        issues = {}\n",
    "    \n",
    "        # Identify missing values\n",
    "        missing_values = dataset.isnull().sum()\n",
    "    \n",
    "        # Identify duplicate rows\n",
    "        duplicate_rows = dataset.duplicated().sum()\n",
    "    \n",
    "        # Identify null values\n",
    "        null_values = dataset.isna().sum()\n",
    "    \n",
    "        #adding them to the issues dictionary\n",
    "        issues['missing_values'] = missing_values\n",
    "        issues['duplicate_rows'] = duplicate_rows\n",
    "        issues['null_values'] = null_values\n",
    "        \n",
    "        return issues\n",
    "    \n",
    "class Preprocessing: \n",
    "    def __init__(self) :\n",
    "        pass\n",
    "    \n",
    "    #train test split\n",
    "    def prep(self,X, y,size):\n",
    "        #Convert categorical features to numeric\n",
    "        X = pd.get_dummies(X, drop_first=True)\n",
    "\n",
    "        X_train, X_test, y_train, y_test = train_test_split(X, y, test_size=size, random_state=42)\n",
    "        \n",
    "        #Scaling the X_train and X_test\n",
    "        scaler = StandardScaler()\n",
    "        X_train_scal = scaler.fit_transform(X_train)\n",
    "        X_test_scal = scaler.transform(X_test)\n",
    "\n",
    "        return X_train_scal, X_test_scal, y_train, y_test\n",
    "\n",
    "class Analysis:\n",
    "    def __init__(self):\n",
    "        pass\n",
    "\n",
    "    def correlation_heatmap(df):\n",
    "        plt.figure(figsize=(10, 8))\n",
    "        correlation = df.corr()\n",
    "        sns.heatmap(correlation, annot=True, cmap='coolwarm', vmin=-1, vmax=1)\n",
    "        plt.title('Correlation Heatmap')\n",
    "        plt.show()\n",
    "\n",
    "    def Target(df):    \n",
    "        # Distribution of Target Variable\n",
    "        sns.countplot(x='Risk_Flag', data=df)\n",
    "        plt.title('Distribution of Risk_Flag')\n",
    "        plt.show()   \n",
    "\n",
    "\n",
    "class Modeling:\n",
    "    def __init__(self):\n",
    "        pass\n",
    "\n",
    "    def models(self,classifier,X_train,y_train,X_test,y_test):\n",
    "        # Acquire the best parameters if its a Grid search \n",
    "        if type(classifier) == GridSearchCV:\n",
    "            #Fit the grid search to the training data\n",
    "            classifier.fit(X_train, y_train)\n",
    "            # Get the best model and its parameters\n",
    "            best_model = classifier.best_estimator_\n",
    "            best_params = classifier.best_params_\n",
    "\n",
    "            # Print the best parameters and score\n",
    "            print(f\"Best parameters: {best_params}\")\n",
    "            print(f\"Best score: {classifier.best_score_:.4f}\")\n",
    "\n",
    "            # Make predictions using the best model\n",
    "            y_pred = best_model.predict(X_test)\n",
    "\n",
    "            # Evaluate the model (example with accuracy)\n",
    "            test_accuracy = accuracy_score(y_test, y_pred)\n",
    "            print(f\"Test accuracy of the best model: {test_accuracy:.4f}\")\n",
    "\n",
    "        else:\n",
    "            # Fit the model\n",
    "            classifier.fit(X_train,y_train)\n",
    "\n",
    "            #Make predictions\n",
    "            y_hat_train = classifier.predict(X_train)\n",
    "            y_hat_test = classifier.predict(X_test)  \n",
    "\n",
    "            #Print the accuracy scores for the model test\n",
    "            train_acc = accuracy_score(y_train,y_hat_train)\n",
    "            test_acc = accuracy_score(y_test,y_hat_test)\n",
    "            print(f\"The model has an accuracy of {test_acc*100:.2f}% on the test test\\n\")\n",
    "            print(f\"The Model has an accuracy of {train_acc*100:.2f}% on the train test\")\n",
    "\n",
    "            \n"
   ]
  },
  {
   "cell_type": "code",
   "execution_count": 4,
   "metadata": {},
   "outputs": [
    {
     "name": "stdout",
     "output_type": "stream",
     "text": [
      "The dataset contains 252000 loan applicants with 13 attributes\n",
      "<class 'pandas.core.frame.DataFrame'>\n",
      "Int64Index: 252000 entries, 0 to 251999\n",
      "Data columns (total 13 columns):\n",
      " #   Column             Non-Null Count   Dtype \n",
      "---  ------             --------------   ----- \n",
      " 0   Id                 252000 non-null  int64 \n",
      " 1   Income             252000 non-null  int64 \n",
      " 2   Age                252000 non-null  int64 \n",
      " 3   Experience         252000 non-null  int64 \n",
      " 4   Married/Single     252000 non-null  object\n",
      " 5   House_Ownership    252000 non-null  object\n",
      " 6   Car_Ownership      252000 non-null  object\n",
      " 7   Profession         252000 non-null  object\n",
      " 8   CITY               252000 non-null  object\n",
      " 9   STATE              252000 non-null  object\n",
      " 10  CURRENT_JOB_YRS    252000 non-null  int64 \n",
      " 11  CURRENT_HOUSE_YRS  252000 non-null  int64 \n",
      " 12  Risk_Flag          252000 non-null  int64 \n",
      "dtypes: int64(7), object(6)\n",
      "memory usage: 26.9+ MB\n",
      "None\n",
      "\n",
      "Risk_Flag value counts:\n",
      "0 (No Risk):  221004\n",
      "1 (Risk):  30996\n"
     ]
    },
    {
     "data": {
      "text/html": [
       "<div>\n",
       "<style scoped>\n",
       "    .dataframe tbody tr th:only-of-type {\n",
       "        vertical-align: middle;\n",
       "    }\n",
       "\n",
       "    .dataframe tbody tr th {\n",
       "        vertical-align: top;\n",
       "    }\n",
       "\n",
       "    .dataframe thead th {\n",
       "        text-align: right;\n",
       "    }\n",
       "</style>\n",
       "<table border=\"1\" class=\"dataframe\">\n",
       "  <thead>\n",
       "    <tr style=\"text-align: right;\">\n",
       "      <th></th>\n",
       "      <th>Id</th>\n",
       "      <th>Income</th>\n",
       "      <th>Age</th>\n",
       "      <th>Experience</th>\n",
       "      <th>Married/Single</th>\n",
       "      <th>House_Ownership</th>\n",
       "      <th>Car_Ownership</th>\n",
       "      <th>Profession</th>\n",
       "      <th>CITY</th>\n",
       "      <th>STATE</th>\n",
       "      <th>CURRENT_JOB_YRS</th>\n",
       "      <th>CURRENT_HOUSE_YRS</th>\n",
       "      <th>Risk_Flag</th>\n",
       "    </tr>\n",
       "  </thead>\n",
       "  <tbody>\n",
       "    <tr>\n",
       "      <th>0</th>\n",
       "      <td>1</td>\n",
       "      <td>1303834</td>\n",
       "      <td>23</td>\n",
       "      <td>3</td>\n",
       "      <td>single</td>\n",
       "      <td>rented</td>\n",
       "      <td>no</td>\n",
       "      <td>Mechanical_engineer</td>\n",
       "      <td>Rewa</td>\n",
       "      <td>Madhya_Pradesh</td>\n",
       "      <td>3</td>\n",
       "      <td>13</td>\n",
       "      <td>0</td>\n",
       "    </tr>\n",
       "    <tr>\n",
       "      <th>1</th>\n",
       "      <td>2</td>\n",
       "      <td>7574516</td>\n",
       "      <td>40</td>\n",
       "      <td>10</td>\n",
       "      <td>single</td>\n",
       "      <td>rented</td>\n",
       "      <td>no</td>\n",
       "      <td>Software_Developer</td>\n",
       "      <td>Parbhani</td>\n",
       "      <td>Maharashtra</td>\n",
       "      <td>9</td>\n",
       "      <td>13</td>\n",
       "      <td>0</td>\n",
       "    </tr>\n",
       "    <tr>\n",
       "      <th>2</th>\n",
       "      <td>3</td>\n",
       "      <td>3991815</td>\n",
       "      <td>66</td>\n",
       "      <td>4</td>\n",
       "      <td>married</td>\n",
       "      <td>rented</td>\n",
       "      <td>no</td>\n",
       "      <td>Technical_writer</td>\n",
       "      <td>Alappuzha</td>\n",
       "      <td>Kerala</td>\n",
       "      <td>4</td>\n",
       "      <td>10</td>\n",
       "      <td>0</td>\n",
       "    </tr>\n",
       "    <tr>\n",
       "      <th>3</th>\n",
       "      <td>4</td>\n",
       "      <td>6256451</td>\n",
       "      <td>41</td>\n",
       "      <td>2</td>\n",
       "      <td>single</td>\n",
       "      <td>rented</td>\n",
       "      <td>yes</td>\n",
       "      <td>Software_Developer</td>\n",
       "      <td>Bhubaneswar</td>\n",
       "      <td>Odisha</td>\n",
       "      <td>2</td>\n",
       "      <td>12</td>\n",
       "      <td>1</td>\n",
       "    </tr>\n",
       "    <tr>\n",
       "      <th>4</th>\n",
       "      <td>5</td>\n",
       "      <td>5768871</td>\n",
       "      <td>47</td>\n",
       "      <td>11</td>\n",
       "      <td>single</td>\n",
       "      <td>rented</td>\n",
       "      <td>no</td>\n",
       "      <td>Civil_servant</td>\n",
       "      <td>Tiruchirappalli[10]</td>\n",
       "      <td>Tamil_Nadu</td>\n",
       "      <td>3</td>\n",
       "      <td>14</td>\n",
       "      <td>1</td>\n",
       "    </tr>\n",
       "  </tbody>\n",
       "</table>\n",
       "</div>"
      ],
      "text/plain": [
       "   Id   Income  Age  Experience Married/Single House_Ownership Car_Ownership  \\\n",
       "0   1  1303834   23           3         single          rented            no   \n",
       "1   2  7574516   40          10         single          rented            no   \n",
       "2   3  3991815   66           4        married          rented            no   \n",
       "3   4  6256451   41           2         single          rented           yes   \n",
       "4   5  5768871   47          11         single          rented            no   \n",
       "\n",
       "            Profession                 CITY           STATE  CURRENT_JOB_YRS  \\\n",
       "0  Mechanical_engineer                 Rewa  Madhya_Pradesh                3   \n",
       "1   Software_Developer             Parbhani     Maharashtra                9   \n",
       "2     Technical_writer            Alappuzha          Kerala                4   \n",
       "3   Software_Developer          Bhubaneswar          Odisha                2   \n",
       "4        Civil_servant  Tiruchirappalli[10]      Tamil_Nadu                3   \n",
       "\n",
       "   CURRENT_HOUSE_YRS  Risk_Flag  \n",
       "0                 13          0  \n",
       "1                 13          0  \n",
       "2                 10          0  \n",
       "3                 12          1  \n",
       "4                 14          1  "
      ]
     },
     "execution_count": 4,
     "metadata": {},
     "output_type": "execute_result"
    }
   ],
   "source": [
    "#Initiate the Data_Cleaning class\n",
    "Data_Prep = Data_cleaning()\n",
    "\n",
    "#Using the load_data attribute\n",
    "loan_data = Data_Prep.load_data('Data\\loan_approval_dataset.json')\n",
    "\n",
    "#display first 5 rows\n",
    "loan_data.head()"
   ]
  },
  {
   "cell_type": "markdown",
   "metadata": {},
   "source": [
    "The dataset contains 13 columns, each representing a distinct personal attribute, and 252,000 rows, with each row corresponding to a loan application.\n",
    "This dataset has a mix of various datatypes: Id, Income, Age, Experience, Current job years, Current House years and Risk Flag as integers(int64)to facilitate mathematical computations and the rest as objects to accommodate text-based categories.\n"
   ]
  },
  {
   "cell_type": "markdown",
   "metadata": {},
   "source": [
    "## Data Analysis and Cleaning"
   ]
  },
  {
   "cell_type": "markdown",
   "metadata": {},
   "source": [
    "After getting an overview of what the dataset contains let's move on to clean it but first identify the issues with it"
   ]
  },
  {
   "cell_type": "code",
   "execution_count": 6,
   "metadata": {},
   "outputs": [
    {
     "data": {
      "text/plain": [
       "{'missing_values': Id                   0\n",
       " Income               0\n",
       " Age                  0\n",
       " Experience           0\n",
       " Married/Single       0\n",
       " House_Ownership      0\n",
       " Car_Ownership        0\n",
       " Profession           0\n",
       " CITY                 0\n",
       " STATE                0\n",
       " CURRENT_JOB_YRS      0\n",
       " CURRENT_HOUSE_YRS    0\n",
       " Risk_Flag            0\n",
       " dtype: int64,\n",
       " 'duplicate_rows': 0,\n",
       " 'null_values': Id                   0\n",
       " Income               0\n",
       " Age                  0\n",
       " Experience           0\n",
       " Married/Single       0\n",
       " House_Ownership      0\n",
       " Car_Ownership        0\n",
       " Profession           0\n",
       " CITY                 0\n",
       " STATE                0\n",
       " CURRENT_JOB_YRS      0\n",
       " CURRENT_HOUSE_YRS    0\n",
       " Risk_Flag            0\n",
       " dtype: int64}"
      ]
     },
     "execution_count": 6,
     "metadata": {},
     "output_type": "execute_result"
    }
   ],
   "source": [
    "Data_Prep.identify_issues(loan_data)"
   ]
  },
  {
   "cell_type": "markdown",
   "metadata": {},
   "source": [
    "The dataset doesn't have any missing, null or duplicate values. We can move on to analysis"
   ]
  },
  {
   "cell_type": "markdown",
   "metadata": {},
   "source": [
    "#### a) Univariate Analysis"
   ]
  },
  {
   "cell_type": "code",
   "execution_count": 7,
   "metadata": {},
   "outputs": [],
   "source": [
    "# Split the data into features (X) and target variable (y)\n",
    "X = loan_data.drop(columns=[\"Risk_Flag\"])\n",
    "y = loan_data[\"Risk_Flag\"]"
   ]
  },
  {
   "cell_type": "markdown",
   "metadata": {},
   "source": [
    "To avoid data leakage we'll split the dataset into train and test and perform some preprocessing on it"
   ]
  },
  {
   "cell_type": "code",
   "execution_count": 8,
   "metadata": {},
   "outputs": [],
   "source": [
    "Process = Preprocessing()\n",
    "X_train, X_test, y_train, y_test = Process.prep(X,y,0.25)"
   ]
  },
  {
   "cell_type": "markdown",
   "metadata": {},
   "source": [
    "## Modeling"
   ]
  },
  {
   "cell_type": "markdown",
   "metadata": {},
   "source": [
    "Many models were created for this project. The LogisticRegression was used as baseline. We designed DecisionTreeClassifier, RandomForestClassifier, and XGBoost models, with and without using SMOTE, to counteract class imbalances. We also tested models with and without reduced features."
   ]
  },
  {
   "cell_type": "markdown",
   "metadata": {},
   "source": [
    "### a) Logistic Regression\n",
    "\n"
   ]
  },
  {
   "cell_type": "code",
   "execution_count": 9,
   "metadata": {},
   "outputs": [],
   "source": [
    "#Create an Intance of LogisticRegression\n",
    "logreg = LogisticRegression(fit_intercept=False, C=1e12, solver='liblinear', random_state=42)"
   ]
  },
  {
   "cell_type": "code",
   "execution_count": 10,
   "metadata": {},
   "outputs": [
    {
     "name": "stdout",
     "output_type": "stream",
     "text": [
      "The model has an accuracy of 55.56% on the test test\n",
      "\n",
      "Model is overfitting\n"
     ]
    }
   ],
   "source": [
    "Modeling().models(logreg, X_train, y_train, X_test, y_test)                                                "
   ]
  },
  {
   "cell_type": "markdown",
   "metadata": {},
   "source": [
    "The second Iteration of the Logistic Regression will have a penalty included and also balance the weights of the class"
   ]
  },
  {
   "cell_type": "code",
   "execution_count": 11,
   "metadata": {},
   "outputs": [],
   "source": [
    "logreg2 = LogisticRegression(class_weight='balanced',\n",
    "                            penalty='l2',\n",
    "                            fit_intercept=False,\n",
    "                            C=1e12, solver='liblinear',\n",
    "                            random_state=42)"
   ]
  },
  {
   "cell_type": "code",
   "execution_count": 17,
   "metadata": {},
   "outputs": [
    {
     "name": "stdout",
     "output_type": "stream",
     "text": [
      "The model has an accuracy of 51.86% on the test test\n",
      "\n",
      "The Model has an accuracy of 52.29% on the train test\n"
     ]
    }
   ],
   "source": [
    "Modeling().models(logreg2, X_train, y_train, X_test, y_test)    "
   ]
  },
  {
   "cell_type": "markdown",
   "metadata": {},
   "source": [
    "### b) Decision Trees"
   ]
  },
  {
   "cell_type": "markdown",
   "metadata": {},
   "source": [
    "The second model will be a Desision Tree Classifier"
   ]
  },
  {
   "cell_type": "code",
   "execution_count": 13,
   "metadata": {},
   "outputs": [],
   "source": [
    "clf = DecisionTreeClassifier(criterion='entropy')"
   ]
  },
  {
   "cell_type": "code",
   "execution_count": 16,
   "metadata": {},
   "outputs": [
    {
     "name": "stdout",
     "output_type": "stream",
     "text": [
      "The model has an accuracy of 86.69% on the test test\n",
      "\n",
      "The Model has an accuracy of 100.00% on the train test\n"
     ]
    }
   ],
   "source": [
    "Modeling().models(clf, X_train, y_train, X_test, y_test) "
   ]
  },
  {
   "cell_type": "markdown",
   "metadata": {},
   "source": [
    "* Compared to the LogisticRegression the model is performing much better with an improved accuracy score\n",
    "* The model is overfitting to the train data, parameter tuning is needed\n",
    "\n",
    "The second iteration will aplly a GridSearchCV and find the best parameters"
   ]
  },
  {
   "cell_type": "code",
   "execution_count": 18,
   "metadata": {},
   "outputs": [],
   "source": [
    "from sklearn.model_selection import cross_val_score\n",
    "dt_clf = DecisionTreeClassifier()\n",
    "dt_cv_score = cross_val_score(dt_clf, X_train, y_train, cv=3)\n",
    "mean_score = np.mean(dt_cv_score)\n",
    "\n",
    "print(f\"Mean cross validation score: {mean_score :2%}\")"
   ]
  },
  {
   "cell_type": "code",
   "execution_count": null,
   "metadata": {},
   "outputs": [],
   "source": [
    "dt_param_grid = {\n",
    "    \"criterion\": [\"gini\", \"entropy\"],\n",
    "    \"max_depth\": [None, 2, 3, 4, 5, 6],\n",
    "    \"min_samples_split\": [2, 5, 10],\n",
    "    \"min_samples_leaf\": [1, 2, 3, 4, 5, 6],\n",
    "}"
   ]
  }
 ],
 "metadata": {
  "kernelspec": {
   "display_name": "Python 3",
   "language": "python",
   "name": "python3"
  },
  "language_info": {
   "codemirror_mode": {
    "name": "ipython",
    "version": 3
   },
   "file_extension": ".py",
   "mimetype": "text/x-python",
   "name": "python",
   "nbconvert_exporter": "python",
   "pygments_lexer": "ipython3",
   "version": "3.8.5"
  }
 },
 "nbformat": 4,
 "nbformat_minor": 2
}
